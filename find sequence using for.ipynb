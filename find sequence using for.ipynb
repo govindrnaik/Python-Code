{
 "cells": [
  {
   "cell_type": "markdown",
   "metadata": {},
   "source": [
    "# Write a program to identify sub list [1,1,5] is there in the given list in the same order,\n",
    "if yes print “it's a Match” if no then print “it's Gone” in function\n",
    "Example -\n",
    "Listy = [1,5,6,4,1,2,3,5] - it's a Match\n",
    "Listy = [1,5,6,5,1,2,3,6] - it's Gone"
   ]
  },
  {
   "cell_type": "code",
   "execution_count": 6,
   "metadata": {},
   "outputs": [
    {
     "name": "stdout",
     "output_type": "stream",
     "text": [
      "Enter the Numbers in list without spaces : 12314531153423434\n",
      "it's a Match\n"
     ]
    }
   ],
   "source": [
    "a = False\n",
    "L = list((input(\"Enter the Numbers in list without spaces : \")))\n",
    "c = [1,1,5]\n",
    "\n",
    "# converting string llist to int list\n",
    "for i in range(len(L)) :\n",
    "    L[i] = int(L[i])\n",
    "    \n",
    "for i in range(len(L)) :\n",
    "    if  L[i : i+len(c)] == c :\n",
    "        a = True\n",
    "    else:\n",
    "        continue    \n",
    "\n",
    "        # show result        \n",
    "if a == True :\n",
    "    print(\"it's a Match\")\n",
    "else :\n",
    "    print(\"it's Gone\")  "
   ]
  }
 ],
 "metadata": {
  "kernelspec": {
   "display_name": "Python 3",
   "language": "python",
   "name": "python3"
  },
  "language_info": {
   "codemirror_mode": {
    "name": "ipython",
    "version": 3
   },
   "file_extension": ".py",
   "mimetype": "text/x-python",
   "name": "python",
   "nbconvert_exporter": "python",
   "pygments_lexer": "ipython3",
   "version": "3.6.5"
  }
 },
 "nbformat": 4,
 "nbformat_minor": 2
}
