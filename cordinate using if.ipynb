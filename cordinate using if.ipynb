{
 "cells": [
  {
   "cell_type": "markdown",
   "metadata": {},
   "source": [
    "# Q5. Ankit is in maze. The command center sent him a string which decodes to come\n",
    "out from the maze.\n",
    "➔ He is initially at (0, 0).\n",
    "➔ String contains L, R, U, D denoting left, right, up and down.\n",
    "➔ In each command he will traverse 1 unit distance in the respective direction.\n",
    "➔ For example if he is at (2, 0) and the command is L he will go to (1, 0)."
   ]
  },
  {
   "cell_type": "code",
   "execution_count": 5,
   "metadata": {},
   "outputs": [
    {
     "name": "stdout",
     "output_type": "stream",
     "text": [
      "Enter the Encoded Massage :driludlrdudlruddikr\n",
      "DRILUDLRDUDLRUDDIKR\n",
      "Cordinates of Target  Location is : ( 1 , 0 )\n"
     ]
    }
   ],
   "source": [
    "\n",
    "msg = input(\"Enter the Encoded Massage :\").upper()\n",
    "print(msg)\n",
    "\n",
    "for i in range(len(msg)) :\n",
    "    x = 0 \n",
    "    y = 0\n",
    "    if msg[i] == \"L\" :\n",
    "        x = x - 1\n",
    "    elif msg[i] == \"R\" :\n",
    "        x = x + 1\n",
    "    elif msg[i] == \"D\" :\n",
    "        y = y - 1\n",
    "    elif msg[i] == \"U\" :\n",
    "        y =y + 1\n",
    "    else :\n",
    "        continue\n",
    "print(\"Cordinates of Target  Location is : (\", x,\",\",y,\")\" )"
   ]
  },
  {
   "cell_type": "code",
   "execution_count": null,
   "metadata": {},
   "outputs": [],
   "source": []
  }
 ],
 "metadata": {
  "kernelspec": {
   "display_name": "Python 3",
   "language": "python",
   "name": "python3"
  },
  "language_info": {
   "codemirror_mode": {
    "name": "ipython",
    "version": 3
   },
   "file_extension": ".py",
   "mimetype": "text/x-python",
   "name": "python",
   "nbconvert_exporter": "python",
   "pygments_lexer": "ipython3",
   "version": "3.6.5"
  }
 },
 "nbformat": 4,
 "nbformat_minor": 2
}
