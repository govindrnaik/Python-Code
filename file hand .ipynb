{
 "cells": [
  {
   "cell_type": "markdown",
   "metadata": {},
   "source": [
    "# WAP to Handle File using Python Script.\n",
    "1. Opening a File\n",
    "2. Writing - I love FCS\n",
    "3. Close the file\n",
    "4. Open the file again\n",
    "5. Show the content on screen"
   ]
  },
  {
   "cell_type": "code",
   "execution_count": 1,
   "metadata": {},
   "outputs": [],
   "source": [
    "# Opening a File\n",
    "file = open(\"govind.txt\",'w')\n",
    "\n",
    "# Writing - I love FCS\n",
    "file.write(\"(___@@____I Love FCS____@@____) \")\n",
    "\n",
    "# Close the file\n",
    "file.close()"
   ]
  },
  {
   "cell_type": "code",
   "execution_count": 2,
   "metadata": {},
   "outputs": [
    {
     "name": "stdout",
     "output_type": "stream",
     "text": [
      "(___@@____I Love FCS____@@____) \n"
     ]
    }
   ],
   "source": [
    "# Open the file again\n",
    "file = open(\"govind.txt\",\"r\")\n",
    "content = file.read()\n",
    "\n",
    "# Show the content on screen\n",
    "print(content)\n",
    "file.close()"
   ]
  }
 ],
 "metadata": {
  "kernelspec": {
   "display_name": "Python 3",
   "language": "python",
   "name": "python3"
  },
  "language_info": {
   "codemirror_mode": {
    "name": "ipython",
    "version": 3
   },
   "file_extension": ".py",
   "mimetype": "text/x-python",
   "name": "python",
   "nbconvert_exporter": "python",
   "pygments_lexer": "ipython3",
   "version": "3.6.5"
  }
 },
 "nbformat": 4,
 "nbformat_minor": 2
}
