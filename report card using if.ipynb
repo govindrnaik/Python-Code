{
 "cells": [
  {
   "cell_type": "markdown",
   "metadata": {},
   "source": [
    "# WAP for taking one number a input and then using if elif else concept, assign a grade\n",
    "to the input number from\n",
    "A,B,C,D, Fail\n",
    "In a formatted report card Example :\n",
    "Input - 97\n",
    "Output - |--------|\n",
    "              |    A    |\n",
    "              |--------|"
   ]
  },
  {
   "cell_type": "code",
   "execution_count": 1,
   "metadata": {},
   "outputs": [
    {
     "name": "stdout",
     "output_type": "stream",
     "text": [
      "Enter your percentage : 26\n",
      "\n",
      " @@@@@@@@@\n",
      "@  Your Grade Is   @\n",
      "@           D             @\n",
      "@@@@@@@@@\n"
     ]
    }
   ],
   "source": [
    "Number = int(input(\"Enter your percentage : \"))\n",
    "\n",
    "if  100 > Number > 0 :\n",
    "    print(\"\\n @@@@@@@@@\")\n",
    "    print(\"@  Your Grade Is   @\")\n",
    "    if  Number >= 80  :\n",
    "        print(\"@          A             @\")\n",
    "    elif Number >= 60  :\n",
    "        print(\"@           B             @\")\n",
    "    elif Number >= 40  :\n",
    "        print(\"@           C             @\")\n",
    "    elif Number >= 20  :\n",
    "        print(\"@           D             @\")\n",
    "    else:\n",
    "        print(\"@          FAIL         @\")\n",
    "    print(\"@@@@@@@@@\")\n",
    "else:\n",
    "    print(\"Enter Valid Percentage\")       \n",
    "\n"
   ]
  },
  {
   "cell_type": "code",
   "execution_count": null,
   "metadata": {},
   "outputs": [],
   "source": []
  }
 ],
 "metadata": {
  "kernelspec": {
   "display_name": "Python 3",
   "language": "python",
   "name": "python3"
  },
  "language_info": {
   "codemirror_mode": {
    "name": "ipython",
    "version": 3
   },
   "file_extension": ".py",
   "mimetype": "text/x-python",
   "name": "python",
   "nbconvert_exporter": "python",
   "pygments_lexer": "ipython3",
   "version": "3.6.5"
  }
 },
 "nbformat": 4,
 "nbformat_minor": 2
}
