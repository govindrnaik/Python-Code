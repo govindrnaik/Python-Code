{
  "nbformat": 4,
  "nbformat_minor": 0,
  "metadata": {
    "colab": {
      "name": "Day_1_Turtle & Decorator",
      "provenance": [],
      "collapsed_sections": []
    },
    "kernelspec": {
      "name": "python3",
      "display_name": "Python 3"
    }
  },
  "cells": [
    {
      "cell_type": "code",
      "metadata": {
        "id": "IvXOEOnCP4ac",
        "colab_type": "code",
        "outputId": "2cb6624f-19c6-491a-c279-7d861e4bbd7c",
        "colab": {
          "base_uri": "https://localhost:8080/",
          "height": 170
        }
      },
      "source": [
        "!pip3 install ColabTurtle"
      ],
      "execution_count": 2,
      "outputs": [
        {
          "output_type": "stream",
          "text": [
            "Collecting ColabTurtle\n",
            "  Downloading https://files.pythonhosted.org/packages/49/01/6da7091c2c6c917cce99c000b89acb6aa27b66ef6eafc0c0ccf59b98694f/ColabTurtle-2.0.0.tar.gz\n",
            "Building wheels for collected packages: ColabTurtle\n",
            "  Building wheel for ColabTurtle (setup.py) ... \u001b[?25l\u001b[?25hdone\n",
            "  Created wheel for ColabTurtle: filename=ColabTurtle-2.0.0-cp36-none-any.whl size=4033 sha256=6492ca0118c7d4f92caf12d08d1c1c5a6d4f1ff841d52b613c235ca4beb435fb\n",
            "  Stored in directory: /root/.cache/pip/wheels/a8/29/ec/ad346f0042ae467cc74f4378916348faf975b07890651dcae7\n",
            "Successfully built ColabTurtle\n",
            "Installing collected packages: ColabTurtle\n",
            "Successfully installed ColabTurtle-2.0.0\n"
          ],
          "name": "stdout"
        }
      ]
    },
    {
      "cell_type": "code",
      "metadata": {
        "id": "lphDEXxccuAq",
        "colab_type": "code",
        "colab": {}
      },
      "source": [
        "from ColabTurtle.Turtle import *"
      ],
      "execution_count": 0,
      "outputs": []
    },
    {
      "cell_type": "code",
      "metadata": {
        "id": "WSkgXpqfR3mP",
        "colab_type": "code",
        "outputId": "04d0ac5a-d493-4713-c533-8df98999ad9e",
        "colab": {
          "base_uri": "https://localhost:8080/",
          "height": 521
        }
      },
      "source": [
        "initializeTurtle(initial_speed=1)\n",
        "color('orange')\n",
        "bgcolor('white')\n",
        "width(15)\n",
        "for i in range(16):\n",
        "    forward(200)\n",
        "    left(70)"
      ],
      "execution_count": 4,
      "outputs": [
        {
          "output_type": "display_data",
          "data": {
            "text/html": [
              "\n",
              "      <svg width=\"800\" height=\"500\">\n",
              "        <rect width=\"100%\" height=\"100%\" fill=\"white\"/>\n",
              "        <line x1=\"400\" y1=\"250\" x2=\"399.99999999999994\" y2=\"50.0\" stroke-linecap=\"round\" style=\"stroke:orange;stroke-width:15\"/><line x1=\"399.99999999999994\" y1=\"50.0\" x2=\"212.06147584281825\" y2=\"-18.404028665133737\" stroke-linecap=\"round\" style=\"stroke:orange;stroke-width:15\"/><line x1=\"212.06147584281825\" y1=\"-18.404028665133737\" x2=\"83.50395390551037\" y2=\"134.8048599586619\" stroke-linecap=\"round\" style=\"stroke:orange;stroke-width:15\"/><line x1=\"83.50395390551037\" y1=\"134.8048599586619\" x2=\"183.5039539055104\" y2=\"308.00994071554965\" stroke-linecap=\"round\" style=\"stroke:orange;stroke-width:15\"/><line x1=\"183.5039539055104\" y1=\"308.00994071554965\" x2=\"380.465504507952\" y2=\"273.28030518216354\" stroke-linecap=\"round\" style=\"stroke:orange;stroke-width:15\"/><line x1=\"380.465504507952\" y1=\"273.28030518216354\" x2=\"415.195140041338\" y2=\"76.31875457972191\" stroke-linecap=\"round\" style=\"stroke:orange;stroke-width:15\"/><line x1=\"415.195140041338\" y1=\"76.31875457972191\" x2=\"241.99005928445027\" y2=\"-23.681245420278117\" stroke-linecap=\"round\" style=\"stroke:orange;stroke-width:15\"/><line x1=\"241.99005928445027\" y1=\"-23.681245420278117\" x2=\"88.78117066065468\" y2=\"104.87627651702977\" stroke-linecap=\"round\" style=\"stroke:orange;stroke-width:15\"/><line x1=\"88.78117066065468\" y1=\"104.87627651702977\" x2=\"157.18519932578846\" y2=\"292.8148006742114\" stroke-linecap=\"round\" style=\"stroke:orange;stroke-width:15\"/><line x1=\"157.18519932578846\" y1=\"292.8148006742114\" x2=\"357.18519932578846\" y2=\"292.8148006742114\" stroke-linecap=\"round\" style=\"stroke:orange;stroke-width:15\"/><line x1=\"357.18519932578846\" y1=\"292.8148006742114\" x2=\"425.58922799092227\" y2=\"104.87627651702977\" stroke-linecap=\"round\" style=\"stroke:orange;stroke-width:15\"/><line x1=\"425.58922799092227\" y1=\"104.87627651702977\" x2=\"272.3803393671267\" y2=\"-23.68124542027809\" stroke-linecap=\"round\" style=\"stroke:orange;stroke-width:15\"/><line x1=\"272.3803393671267\" y1=\"-23.68124542027809\" x2=\"99.17525861023893\" y2=\"76.3187545797219\" stroke-linecap=\"round\" style=\"stroke:orange;stroke-width:15\"/><line x1=\"99.17525861023893\" y1=\"76.3187545797219\" x2=\"133.904894143625\" y2=\"273.2803051821635\" stroke-linecap=\"round\" style=\"stroke:orange;stroke-width:15\"/><line x1=\"133.904894143625\" y1=\"273.2803051821635\" x2=\"330.8664447460666\" y2=\"308.00994071554953\" stroke-linecap=\"round\" style=\"stroke:orange;stroke-width:15\"/><line x1=\"330.8664447460666\" y1=\"308.00994071554953\" x2=\"430.8664447460666\" y2=\"134.8048599586618\" stroke-linecap=\"round\" style=\"stroke:orange;stroke-width:15\"/>\n",
              "        \n",
              "      <g visibility=visible transform=\"rotate(140,430.8664447460666,134.8048599586618) translate(430.8664447460666, 134.8048599586618)\">\n",
              "        <circle stroke=\"orange\" stroke-width=\"3\" fill=\"transparent\" r=\"12\" cx=\"0\" cy=\"0\"/>\n",
              "        <polygon points=\"0,19 3,16 -3,16\" style=\"fill:orange;stroke:orange;stroke-width:2\"/>\n",
              "      </g>\n",
              "    \n",
              "      </svg>\n",
              "    "
            ],
            "text/plain": [
              "<IPython.core.display.HTML object>"
            ]
          },
          "metadata": {
            "tags": []
          }
        }
      ]
    },
    {
      "cell_type": "code",
      "metadata": {
        "id": "mgiCMNdD-84n",
        "colab_type": "code",
        "outputId": "6fd5fcfc-57d1-421a-fd87-a44593cac771",
        "colab": {
          "base_uri": "https://localhost:8080/",
          "height": 521
        }
      },
      "source": [
        "initializeTurtle(initial_speed=10)\n",
        "color('white')\n",
        "bgcolor('black')\n",
        "\n",
        "min_length=20\n",
        "\n",
        "def draw_branch(l, w):\n",
        "  left(15)\n",
        "  draw_stick(l, w)\n",
        "  right(30)\n",
        "  draw_stick(l, w)\n",
        "  left(15)\n",
        "  \n",
        "def draw_stick(l, w):\n",
        "  width(w)\n",
        "  forward(l)\n",
        "  if min_length < l:\n",
        "    draw_branch(math.ceil(l*0.8), math.ceil(w*0.6))\n",
        "  backward(l)\n",
        "\n",
        "penup()\n",
        "sety(470)\n",
        "pendown()\n",
        "draw_branch(100, 10)"
      ],
      "execution_count": 0,
      "outputs": [
        {
          "output_type": "display_data",
          "data": {
            "text/html": [
              "\n",
              "      <svg width=\"800\" height=\"500\">\n",
              "        <rect width=\"100%\" height=\"100%\" fill=\"black\"/>\n",
              "        <line x1=\"400\" y1=\"470\" x2=\"374.11809548974793\" y2=\"373.4074173710932\" stroke-linecap=\"round\" style=\"stroke:white;stroke-width:10\"/><line x1=\"374.11809548974793\" y1=\"373.4074173710932\" x2=\"334.1180954897479\" y2=\"304.1253850683381\" stroke-linecap=\"round\" style=\"stroke:white;stroke-width:6\"/><line x1=\"334.1180954897479\" y1=\"304.1253850683381\" x2=\"288.8632614938088\" y2=\"258.87055107239905\" stroke-linecap=\"round\" style=\"stroke:white;stroke-width:4\"/><line x1=\"288.8632614938088\" y1=\"258.87055107239905\" x2=\"243.82994049701801\" y2=\"232.87055107239905\" stroke-linecap=\"round\" style=\"stroke:white;stroke-width:3\"/><line x1=\"243.82994049701801\" y1=\"232.87055107239905\" x2=\"203.26105579287713\" y2=\"222.00015117809318\" stroke-linecap=\"round\" style=\"stroke:white;stroke-width:2\"/><line x1=\"203.26105579287713\" y1=\"222.00015117809318\" x2=\"169.26105579287713\" y2=\"222.00015117809318\" stroke-linecap=\"round\" style=\"stroke:white;stroke-width:2\"/><line x1=\"169.26105579287713\" y1=\"222.00015117809318\" x2=\"142.21513265678323\" y2=\"229.24708444096376\" stroke-linecap=\"round\" style=\"stroke:white;stroke-width:2\"/><line x1=\"142.21513265678323\" y1=\"229.24708444096376\" x2=\"122.29654836974113\" y2=\"240.74708444096376\" stroke-linecap=\"round\" style=\"stroke:white;stroke-width:2\"/><line x1=\"122.29654836974113\" y1=\"240.74708444096376\" x2=\"108.86151952719673\" y2=\"254.18211328350816\" stroke-linecap=\"round\" style=\"stroke:white;stroke-width:2\"/><line x1=\"108.86151952719673\" y1=\"254.18211328350816\" x2=\"122.29654836974113\" y2=\"240.74708444096376\" stroke-linecap=\"round\" style=\"stroke:white;stroke-width:2\"/><line x1=\"122.29654836974113\" y1=\"240.74708444096376\" x2=\"103.94395767024884\" y2=\"245.66464629791167\" stroke-linecap=\"round\" style=\"stroke:white;stroke-width:2\"/><line x1=\"103.94395767024884\" y1=\"245.66464629791167\" x2=\"122.29654836974113\" y2=\"240.74708444096376\" stroke-linecap=\"round\" style=\"stroke:white;stroke-width:2\"/><line x1=\"122.29654836974113\" y1=\"240.74708444096376\" x2=\"142.21513265678323\" y2=\"229.24708444096376\" stroke-linecap=\"round\" style=\"stroke:white;stroke-width:2\"/><line x1=\"142.21513265678323\" y1=\"229.24708444096376\" x2=\"119.21513265678323\" y2=\"229.24708444096376\" stroke-linecap=\"round\" style=\"stroke:white;stroke-width:2\"/><line x1=\"119.21513265678323\" y1=\"229.24708444096376\" x2=\"100.86254195729093\" y2=\"234.16464629791167\" stroke-linecap=\"round\" style=\"stroke:white;stroke-width:2\"/><line x1=\"100.86254195729093\" y1=\"234.16464629791167\" x2=\"119.21513265678323\" y2=\"229.24708444096376\" stroke-linecap=\"round\" style=\"stroke:white;stroke-width:2\"/><line x1=\"119.21513265678323\" y1=\"229.24708444096376\" x2=\"100.86254195729093\" y2=\"224.32952258401588\" stroke-linecap=\"round\" style=\"stroke:white;stroke-width:2\"/><line x1=\"100.86254195729093\" y1=\"224.32952258401588\" x2=\"119.21513265678323\" y2=\"229.24708444096376\" stroke-linecap=\"round\" style=\"stroke:white;stroke-width:2\"/><line x1=\"119.21513265678323\" y1=\"229.24708444096376\" x2=\"142.21513265678323\" y2=\"229.24708444096376\" stroke-linecap=\"round\" style=\"stroke:white;stroke-width:2\"/><line x1=\"142.21513265678323\" y1=\"229.24708444096376\" x2=\"169.26105579287713\" y2=\"222.00015117809318\" stroke-linecap=\"round\" style=\"stroke:white;stroke-width:2\"/><line x1=\"169.26105579287713\" y1=\"222.00015117809318\" x2=\"142.21513265678323\" y2=\"214.7532179152226\" stroke-linecap=\"round\" style=\"stroke:white;stroke-width:2\"/><line x1=\"142.21513265678323\" y1=\"214.7532179152226\" x2=\"119.21513265678323\" y2=\"214.7532179152226\" stroke-linecap=\"round\" style=\"stroke:white;stroke-width:2\"/><line x1=\"119.21513265678323\" y1=\"214.7532179152226\" x2=\"100.86254195729093\" y2=\"219.6707797721705\" stroke-linecap=\"round\" style=\"stroke:white;stroke-width:2\"/><line x1=\"100.86254195729093\" y1=\"219.6707797721705\" x2=\"119.21513265678323\" y2=\"214.7532179152226\" stroke-linecap=\"round\" style=\"stroke:white;stroke-width:2\"/><line x1=\"119.21513265678323\" y1=\"214.7532179152226\" x2=\"100.86254195729093\" y2=\"209.8356560582747\" stroke-linecap=\"round\" style=\"stroke:white;stroke-width:2\"/><line x1=\"100.86254195729093\" y1=\"209.8356560582747\" x2=\"119.21513265678323\" y2=\"214.7532179152226\" stroke-linecap=\"round\" style=\"stroke:white;stroke-width:2\"/><line x1=\"119.21513265678323\" y1=\"214.7532179152226\" x2=\"142.21513265678323\" y2=\"214.7532179152226\" stroke-linecap=\"round\" style=\"stroke:white;stroke-width:2\"/><line x1=\"142.21513265678323\" y1=\"214.7532179152226\" x2=\"122.29654836974115\" y2=\"203.2532179152226\" stroke-linecap=\"round\" style=\"stroke:white;stroke-width:2\"/><line x1=\"122.29654836974115\" y1=\"203.2532179152226\" x2=\"103.94395767024885\" y2=\"198.3356560582747\" stroke-linecap=\"round\" style=\"stroke:white;stroke-width:2\"/><line x1=\"103.94395767024885\" y1=\"198.3356560582747\" x2=\"122.29654836974115\" y2=\"203.2532179152226\" stroke-linecap=\"round\" style=\"stroke:white;stroke-width:2\"/><line x1=\"122.29654836974115\" y1=\"203.2532179152226\" x2=\"108.86151952719673\" y2=\"189.8181890726782\" stroke-linecap=\"round\" style=\"stroke:white;stroke-width:2\"/><line x1=\"108.86151952719673\" y1=\"189.8181890726782\" x2=\"122.29654836974115\" y2=\"203.2532179152226\" stroke-linecap=\"round\" style=\"stroke:white;stroke-width:2\"/><line x1=\"122.29654836974115\" y1=\"203.2532179152226\" x2=\"142.21513265678323\" y2=\"214.7532179152226\" stroke-linecap=\"round\" style=\"stroke:white;stroke-width:2\"/><line x1=\"142.21513265678323\" y1=\"214.7532179152226\" x2=\"169.26105579287713\" y2=\"222.00015117809318\" stroke-linecap=\"round\" style=\"stroke:white;stroke-width:2\"/><line x1=\"169.26105579287713\" y1=\"222.00015117809318\" x2=\"203.26105579287713\" y2=\"222.00015117809318\" stroke-linecap=\"round\" style=\"stroke:white;stroke-width:2\"/><line x1=\"203.26105579287713\" y1=\"222.00015117809318\" x2=\"173.8161920642062\" y2=\"205.00015117809318\" stroke-linecap=\"round\" style=\"stroke:white;stroke-width:2\"/><line x1=\"173.8161920642062\" y1=\"205.00015117809318\" x2=\"146.7702689281123\" y2=\"197.7532179152226\" stroke-linecap=\"round\" style=\"stroke:white;stroke-width:2\"/><line x1=\"146.7702689281123\" y1=\"197.7532179152226\" x2=\"123.7702689281123\" y2=\"197.7532179152226\" stroke-linecap=\"round\" style=\"stroke:white;stroke-width:2\"/><line x1=\"123.7702689281123\" y1=\"197.7532179152226\" x2=\"105.41767822862\" y2=\"202.6707797721705\" stroke-linecap=\"round\" style=\"stroke:white;stroke-width:2\"/><line x1=\"105.41767822862\" y1=\"202.6707797721705\" x2=\"123.7702689281123\" y2=\"197.7532179152226\" stroke-linecap=\"round\" style=\"stroke:white;stroke-width:2\"/><line x1=\"123.7702689281123\" y1=\"197.7532179152226\" x2=\"105.41767822862\" y2=\"192.8356560582747\" stroke-linecap=\"round\" style=\"stroke:white;stroke-width:2\"/><line x1=\"105.41767822862\" y1=\"192.8356560582747\" x2=\"123.7702689281123\" y2=\"197.7532179152226\" stroke-linecap=\"round\" style=\"stroke:white;stroke-width:2\"/><line x1=\"123.7702689281123\" y1=\"197.7532179152226\" x2=\"146.7702689281123\" y2=\"197.7532179152226\" stroke-linecap=\"round\" style=\"stroke:white;stroke-width:2\"/><line x1=\"146.7702689281123\" y1=\"197.7532179152226\" x2=\"126.85168464107022\" y2=\"186.2532179152226\" stroke-linecap=\"round\" style=\"stroke:white;stroke-width:2\"/><line x1=\"126.85168464107022\" y1=\"186.2532179152226\" x2=\"108.49909394157793\" y2=\"181.3356560582747\" stroke-linecap=\"round\" style=\"stroke:white;stroke-width:2\"/><line x1=\"108.49909394157793\" y1=\"181.3356560582747\" x2=\"126.85168464107022\" y2=\"186.2532179152226\" stroke-linecap=\"round\" style=\"stroke:white;stroke-width:2\"/><line x1=\"126.85168464107022\" y1=\"186.2532179152226\" x2=\"113.41665579852581\" y2=\"172.8181890726782\" stroke-linecap=\"round\" style=\"stroke:white;stroke-width:2\"/><line x1=\"113.41665579852581\" y1=\"172.8181890726782\" x2=\"126.85168464107022\" y2=\"186.2532179152226\" stroke-linecap=\"round\" style=\"stroke:white;stroke-width:2\"/><line x1=\"126.85168464107022\" y1=\"186.2532179152226\" x2=\"146.7702689281123\" y2=\"197.7532179152226\" stroke-linecap=\"round\" style=\"stroke:white;stroke-width:2\"/><line x1=\"146.7702689281123\" y1=\"197.7532179152226\" x2=\"173.8161920642062\" y2=\"205.00015117809318\" stroke-linecap=\"round\" style=\"stroke:white;stroke-width:2\"/><line x1=\"173.8161920642062\" y1=\"205.00015117809318\" x2=\"154.01720219098286\" y2=\"185.20116130486986\" stroke-linecap=\"round\" style=\"stroke:white;stroke-width:2\"/><line x1=\"154.01720219098286\" y1=\"185.20116130486986\" x2=\"134.09861790394078\" y2=\"173.70116130486986\" stroke-linecap=\"round\" style=\"stroke:white;stroke-width:2\"/><line x1=\"134.09861790394078\" y1=\"173.70116130486986\" x2=\"115.74602720444848\" y2=\"168.78359944792197\" stroke-linecap=\"round\" style=\"stroke:white;stroke-width:2\"/><line x1=\"115.74602720444848\" y1=\"168.78359944792197\" x2=\"134.09861790394078\" y2=\"173.70116130486986\" stroke-linecap=\"round\" style=\"stroke:white;stroke-width:2\"/><line x1=\"134.09861790394078\" y1=\"173.70116130486986\" x2=\"120.66358906139637\" y2=\"160.26613246232546\" stroke-linecap=\"round\" style=\"stroke:white;stroke-width:2\"/><line x1=\"120.66358906139637\" y1=\"160.26613246232546\" x2=\"134.09861790394078\" y2=\"173.70116130486986\" stroke-linecap=\"round\" style=\"stroke:white;stroke-width:2\"/><line x1=\"134.09861790394078\" y1=\"173.70116130486986\" x2=\"154.01720219098286\" y2=\"185.20116130486986\" stroke-linecap=\"round\" style=\"stroke:white;stroke-width:2\"/><line x1=\"154.01720219098286\" y1=\"185.20116130486986\" x2=\"142.51720219098286\" y2=\"165.28257701782778\" stroke-linecap=\"round\" style=\"stroke:white;stroke-width:2\"/><line x1=\"142.51720219098286\" y1=\"165.28257701782778\" x2=\"129.08217334843846\" y2=\"151.84754817528338\" stroke-linecap=\"round\" style=\"stroke:white;stroke-width:2\"/><line x1=\"129.08217334843846\" y1=\"151.84754817528338\" x2=\"142.51720219098286\" y2=\"165.28257701782778\" stroke-linecap=\"round\" style=\"stroke:white;stroke-width:2\"/><line x1=\"142.51720219098286\" y1=\"165.28257701782778\" x2=\"137.59964033403497\" y2=\"146.92998631833547\" stroke-linecap=\"round\" style=\"stroke:white;stroke-width:2\"/><line x1=\"137.59964033403497\" y1=\"146.92998631833547\" x2=\"142.51720219098286\" y2=\"165.28257701782775\" stroke-linecap=\"round\" style=\"stroke:white;stroke-width:2\"/><line x1=\"142.51720219098286\" y1=\"165.28257701782775\" x2=\"154.01720219098286\" y2=\"185.20116130486983\" stroke-linecap=\"round\" style=\"stroke:white;stroke-width:2\"/><line x1=\"154.01720219098286\" y1=\"185.20116130486983\" x2=\"173.81619206420618\" y2=\"205.00015117809315\" stroke-linecap=\"round\" style=\"stroke:white;stroke-width:2\"/><line x1=\"173.81619206420618\" y1=\"205.00015117809315\" x2=\"203.2610557928771\" y2=\"222.00015117809315\" stroke-linecap=\"round\" style=\"stroke:white;stroke-width:2\"/><line x1=\"203.2610557928771\" y1=\"222.00015117809315\" x2=\"243.82994049701796\" y2=\"232.87055107239902\" stroke-linecap=\"round\" style=\"stroke:white;stroke-width:2\"/><line x1=\"243.82994049701796\" y1=\"232.87055107239902\" x2=\"214.13145568718295\" y2=\"203.17206626256404\" stroke-linecap=\"round\" style=\"stroke:white;stroke-width:2\"/><line x1=\"214.13145568718295\" y1=\"203.17206626256404\" x2=\"184.68659195851203\" y2=\"186.17206626256404\" stroke-linecap=\"round\" style=\"stroke:white;stroke-width:2\"/><line x1=\"184.68659195851203\" y1=\"186.17206626256404\" x2=\"157.64066882241812\" y2=\"178.92513299969346\" stroke-linecap=\"round\" style=\"stroke:white;stroke-width:2\"/><line x1=\"157.64066882241812\" y1=\"178.92513299969346\" x2=\"134.64066882241812\" y2=\"178.92513299969346\" stroke-linecap=\"round\" style=\"stroke:white;stroke-width:2\"/><line x1=\"134.64066882241812\" y1=\"178.92513299969346\" x2=\"116.28807812292582\" y2=\"183.84269485664137\" stroke-linecap=\"round\" style=\"stroke:white;stroke-width:2\"/><line x1=\"116.28807812292582\" y1=\"183.84269485664137\" x2=\"134.64066882241812\" y2=\"178.92513299969346\" stroke-linecap=\"round\" style=\"stroke:white;stroke-width:2\"/><line x1=\"134.64066882241812\" y1=\"178.92513299969346\" x2=\"116.28807812292582\" y2=\"174.00757114274558\" stroke-linecap=\"round\" style=\"stroke:white;stroke-width:2\"/><line x1=\"116.28807812292582\" y1=\"174.00757114274558\" x2=\"134.64066882241812\" y2=\"178.92513299969346\" stroke-linecap=\"round\" style=\"stroke:white;stroke-width:2\"/><line x1=\"134.64066882241812\" y1=\"178.92513299969346\" x2=\"157.64066882241812\" y2=\"178.92513299969346\" stroke-linecap=\"round\" style=\"stroke:white;stroke-width:2\"/><line x1=\"157.64066882241812\" y1=\"178.92513299969346\" x2=\"137.72208453537604\" y2=\"167.42513299969346\" stroke-linecap=\"round\" style=\"stroke:white;stroke-width:2\"/><line x1=\"137.72208453537604\" y1=\"167.42513299969346\" x2=\"119.36949383588374\" y2=\"162.50757114274558\" stroke-linecap=\"round\" style=\"stroke:white;stroke-width:2\"/><line x1=\"119.36949383588374\" y1=\"162.50757114274558\" x2=\"137.72208453537604\" y2=\"167.42513299969346\" stroke-linecap=\"round\" style=\"stroke:white;stroke-width:2\"/><line x1=\"137.72208453537604\" y1=\"167.42513299969346\" x2=\"124.28705569283163\" y2=\"153.99010415714906\" stroke-linecap=\"round\" style=\"stroke:white;stroke-width:2\"/><line x1=\"124.28705569283163\" y1=\"153.99010415714906\" x2=\"137.72208453537604\" y2=\"167.42513299969346\" stroke-linecap=\"round\" style=\"stroke:white;stroke-width:2\"/><line x1=\"137.72208453537604\" y1=\"167.42513299969346\" x2=\"157.64066882241812\" y2=\"178.92513299969346\" stroke-linecap=\"round\" style=\"stroke:white;stroke-width:2\"/><line x1=\"157.64066882241812\" y1=\"178.92513299969346\" x2=\"184.68659195851203\" y2=\"186.17206626256404\" stroke-linecap=\"round\" style=\"stroke:white;stroke-width:2\"/><line x1=\"184.68659195851203\" y1=\"186.17206626256404\" x2=\"164.88760208528868\" y2=\"166.37307638934072\" stroke-linecap=\"round\" style=\"stroke:white;stroke-width:2\"/><line x1=\"164.88760208528868\" y1=\"166.37307638934072\" x2=\"144.9690177982466\" y2=\"154.87307638934072\" stroke-linecap=\"round\" style=\"stroke:white;stroke-width:2\"/><line x1=\"144.9690177982466\" y1=\"154.87307638934072\" x2=\"126.6164270987543\" y2=\"149.95551453239284\" stroke-linecap=\"round\" style=\"stroke:white;stroke-width:2\"/><line x1=\"126.6164270987543\" y1=\"149.95551453239284\" x2=\"144.9690177982466\" y2=\"154.87307638934072\" stroke-linecap=\"round\" style=\"stroke:white;stroke-width:2\"/><line x1=\"144.9690177982466\" y1=\"154.87307638934072\" x2=\"131.5339889557022\" y2=\"141.43804754679633\" stroke-linecap=\"round\" style=\"stroke:white;stroke-width:2\"/><line x1=\"131.5339889557022\" y1=\"141.43804754679633\" x2=\"144.9690177982466\" y2=\"154.87307638934072\" stroke-linecap=\"round\" style=\"stroke:white;stroke-width:2\"/><line x1=\"144.9690177982466\" y1=\"154.87307638934072\" x2=\"164.88760208528868\" y2=\"166.37307638934072\" stroke-linecap=\"round\" style=\"stroke:white;stroke-width:2\"/><line x1=\"164.88760208528868\" y1=\"166.37307638934072\" x2=\"153.38760208528868\" y2=\"146.45449210229864\" stroke-linecap=\"round\" style=\"stroke:white;stroke-width:2\"/><line x1=\"153.38760208528868\" y1=\"146.45449210229864\" x2=\"139.95257324274428\" y2=\"133.01946325975425\" stroke-linecap=\"round\" style=\"stroke:white;stroke-width:2\"/><line x1=\"139.95257324274428\" y1=\"133.01946325975425\" x2=\"153.38760208528868\" y2=\"146.45449210229864\" stroke-linecap=\"round\" style=\"stroke:white;stroke-width:2\"/><line x1=\"153.38760208528868\" y1=\"146.45449210229864\" x2=\"148.4700402283408\" y2=\"128.10190140280633\" stroke-linecap=\"round\" style=\"stroke:white;stroke-width:2\"/><line x1=\"148.4700402283408\" y1=\"128.10190140280633\" x2=\"153.38760208528868\" y2=\"146.45449210229862\" stroke-linecap=\"round\" style=\"stroke:white;stroke-width:2\"/><line x1=\"153.38760208528868\" y1=\"146.45449210229862\" x2=\"164.88760208528868\" y2=\"166.3730763893407\" stroke-linecap=\"round\" style=\"stroke:white;stroke-width:2\"/><line x1=\"164.88760208528868\" y1=\"166.3730763893407\" x2=\"184.686591958512\" y2=\"186.17206626256402\" stroke-linecap=\"round\" style=\"stroke:white;stroke-width:2\"/><line x1=\"184.686591958512\" y1=\"186.17206626256402\" x2=\"214.13145568718292\" y2=\"203.17206626256402\" stroke-linecap=\"round\" style=\"stroke:white;stroke-width:2\"/><line x1=\"214.13145568718292\" y1=\"203.17206626256402\" x2=\"197.1314556871829\" y2=\"173.72720253389312\" stroke-linecap=\"round\" style=\"stroke:white;stroke-width:2\"/><line x1=\"197.1314556871829\" y1=\"173.72720253389312\" x2=\"177.33246581395957\" y2=\"153.9282126606698\" stroke-linecap=\"round\" style=\"stroke:white;stroke-width:2\"/><line x1=\"177.33246581395957\" y1=\"153.9282126606698\" x2=\"157.4138815269175\" y2=\"142.4282126606698\" stroke-linecap=\"round\" style=\"stroke:white;stroke-width:2\"/><line x1=\"157.4138815269175\" y1=\"142.4282126606698\" x2=\"139.06129082742518\" y2=\"137.51065080372192\" stroke-linecap=\"round\" style=\"stroke:white;stroke-width:2\"/><line x1=\"139.06129082742518\" y1=\"137.51065080372192\" x2=\"157.41388152691746\" y2=\"142.4282126606698\" stroke-linecap=\"round\" style=\"stroke:white;stroke-width:2\"/><line x1=\"157.41388152691746\" y1=\"142.4282126606698\" x2=\"143.97885268437307\" y2=\"128.9931838181254\" stroke-linecap=\"round\" style=\"stroke:white;stroke-width:2\"/><line x1=\"143.97885268437307\" y1=\"128.9931838181254\" x2=\"157.41388152691746\" y2=\"142.4282126606698\" stroke-linecap=\"round\" style=\"stroke:white;stroke-width:2\"/><line x1=\"157.41388152691746\" y1=\"142.4282126606698\" x2=\"177.33246581395954\" y2=\"153.9282126606698\" stroke-linecap=\"round\" style=\"stroke:white;stroke-width:2\"/><line x1=\"177.33246581395954\" y1=\"153.9282126606698\" x2=\"165.83246581395954\" y2=\"134.00962837362772\" stroke-linecap=\"round\" style=\"stroke:white;stroke-width:2\"/><line x1=\"165.83246581395954\" y1=\"134.00962837362772\" x2=\"152.39743697141515\" y2=\"120.57459953108332\" stroke-linecap=\"round\" style=\"stroke:white;stroke-width:2\"/><line x1=\"152.39743697141515\" y1=\"120.57459953108332\" x2=\"165.83246581395954\" y2=\"134.00962837362772\" stroke-linecap=\"round\" style=\"stroke:white;stroke-width:2\"/><line x1=\"165.83246581395954\" y1=\"134.00962837362772\" x2=\"160.91490395701166\" y2=\"115.65703767413542\" stroke-linecap=\"round\" style=\"stroke:white;stroke-width:2\"/><line x1=\"160.91490395701166\" y1=\"115.65703767413542\" x2=\"165.83246581395954\" y2=\"134.00962837362772\" stroke-linecap=\"round\" style=\"stroke:white;stroke-width:2\"/><line x1=\"165.83246581395954\" y1=\"134.00962837362772\" x2=\"177.33246581395954\" y2=\"153.9282126606698\" stroke-linecap=\"round\" style=\"stroke:white;stroke-width:2\"/><line x1=\"177.33246581395954\" y1=\"153.9282126606698\" x2=\"197.1314556871829\" y2=\"173.72720253389312\" stroke-linecap=\"round\" style=\"stroke:white;stroke-width:2\"/><line x1=\"197.1314556871829\" y1=\"173.72720253389312\" x2=\"189.8845224243123\" y2=\"146.68127939779922\" stroke-linecap=\"round\" style=\"stroke:white;stroke-width:2\"/><line x1=\"189.8845224243123\" y1=\"146.68127939779922\" x2=\"178.3845224243123\" y2=\"126.76269511075714\" stroke-linecap=\"round\" style=\"stroke:white;stroke-width:2\"/><line x1=\"178.3845224243123\" y1=\"126.76269511075714\" x2=\"164.9494935817679\" y2=\"113.32766626821274\" stroke-linecap=\"round\" style=\"stroke:white;stroke-width:2\"/><line x1=\"164.9494935817679\" y1=\"113.32766626821274\" x2=\"178.3845224243123\" y2=\"126.76269511075714\" stroke-linecap=\"round\" style=\"stroke:white;stroke-width:2\"/><line x1=\"178.3845224243123\" y1=\"126.76269511075714\" x2=\"173.46696056736442\" y2=\"108.41010441126484\" stroke-linecap=\"round\" style=\"stroke:white;stroke-width:2\"/><line x1=\"173.46696056736442\" y1=\"108.41010441126484\" x2=\"178.3845224243123\" y2=\"126.76269511075714\" stroke-linecap=\"round\" style=\"stroke:white;stroke-width:2\"/><line x1=\"178.3845224243123\" y1=\"126.76269511075714\" x2=\"189.8845224243123\" y2=\"146.68127939779922\" stroke-linecap=\"round\" style=\"stroke:white;stroke-width:2\"/><line x1=\"189.8845224243123\" y1=\"146.68127939779922\" x2=\"189.8845224243123\" y2=\"123.68127939779922\" stroke-linecap=\"round\" style=\"stroke:white;stroke-width:2\"/><line x1=\"189.8845224243123\" y1=\"123.68127939779922\" x2=\"184.96696056736442\" y2=\"105.32868869830692\" stroke-linecap=\"round\" style=\"stroke:white;stroke-width:2\"/><line x1=\"184.96696056736442\" y1=\"105.32868869830692\" x2=\"189.8845224243123\" y2=\"123.68127939779922\" stroke-linecap=\"round\" style=\"stroke:white;stroke-width:2\"/><line x1=\"189.8845224243123\" y1=\"123.68127939779922\" x2=\"194.8020842812602\" y2=\"105.32868869830692\" stroke-linecap=\"round\" style=\"stroke:white;stroke-width:2\"/><line x1=\"194.8020842812602\" y1=\"105.32868869830692\" x2=\"189.8845224243123\" y2=\"123.68127939779922\" stroke-linecap=\"round\" style=\"stroke:white;stroke-width:2\"/><line x1=\"189.8845224243123\" y1=\"123.68127939779922\" x2=\"189.8845224243123\" y2=\"146.68127939779922\" stroke-linecap=\"round\" style=\"stroke:white;stroke-width:2\"/><line x1=\"189.8845224243123\" y1=\"146.68127939779922\" x2=\"197.1314556871829\" y2=\"173.72720253389312\" stroke-linecap=\"round\" style=\"stroke:white;stroke-width:2\"/><line x1=\"197.1314556871829\" y1=\"173.72720253389312\" x2=\"214.1314556871829\" y2=\"203.17206626256402\" stroke-linecap=\"round\" style=\"stroke:white;stroke-width:2\"/><line x1=\"214.1314556871829\" y1=\"203.17206626256402\" x2=\"243.8299404970179\" y2=\"232.870551072399\" stroke-linecap=\"round\" style=\"stroke:white;stroke-width:2\"/><line x1=\"243.8299404970179\" y1=\"232.870551072399\" x2=\"288.8632614938087\" y2=\"258.870551072399\" stroke-linecap=\"round\" style=\"stroke:white;stroke-width:2\"/><line x1=\"288.8632614938087\" y1=\"258.870551072399\" x2=\"262.8632614938087\" y2=\"213.8372300756082\" stroke-linecap=\"round\" style=\"stroke:white;stroke-width:3\"/><line x1=\"262.8632614938087\" y1=\"213.8372300756082\" x2=\"233.16477668397368\" y2=\"184.1387452657732\" stroke-linecap=\"round\" style=\"stroke:white;stroke-width:2\"/><line x1=\"233.16477668397368\" y1=\"184.1387452657732\" x2=\"203.71991295530276\" y2=\"167.1387452657732\" stroke-linecap=\"round\" style=\"stroke:white;stroke-width:2\"/><line x1=\"203.71991295530276\" y1=\"167.1387452657732\" x2=\"176.67398981920886\" y2=\"159.8918120029026\" stroke-linecap=\"round\" style=\"stroke:white;stroke-width:2\"/><line x1=\"176.67398981920886\" y1=\"159.8918120029026\" x2=\"153.67398981920886\" y2=\"159.8918120029026\" stroke-linecap=\"round\" style=\"stroke:white;stroke-width:2\"/><line x1=\"153.67398981920886\" y1=\"159.8918120029026\" x2=\"135.32139911971655\" y2=\"164.80937385985052\" stroke-linecap=\"round\" style=\"stroke:white;stroke-width:2\"/><line x1=\"135.32139911971655\" y1=\"164.80937385985052\" x2=\"153.67398981920883\" y2=\"159.8918120029026\" stroke-linecap=\"round\" style=\"stroke:white;stroke-width:2\"/><line x1=\"153.67398981920883\" y1=\"159.8918120029026\" x2=\"135.32139911971655\" y2=\"154.97425014595473\" stroke-linecap=\"round\" style=\"stroke:white;stroke-width:2\"/><line x1=\"135.32139911971655\" y1=\"154.97425014595473\" x2=\"153.67398981920883\" y2=\"159.8918120029026\" stroke-linecap=\"round\" style=\"stroke:white;stroke-width:2\"/><line x1=\"153.67398981920883\" y1=\"159.8918120029026\" x2=\"176.67398981920883\" y2=\"159.8918120029026\" stroke-linecap=\"round\" style=\"stroke:white;stroke-width:2\"/><line x1=\"176.67398981920883\" y1=\"159.8918120029026\" x2=\"156.75540553216675\" y2=\"148.3918120029026\" stroke-linecap=\"round\" style=\"stroke:white;stroke-width:2\"/><line x1=\"156.75540553216675\" y1=\"148.3918120029026\" x2=\"138.40281483267444\" y2=\"143.47425014595473\" stroke-linecap=\"round\" style=\"stroke:white;stroke-width:2\"/><line x1=\"138.40281483267444\" y1=\"143.47425014595473\" x2=\"156.75540553216672\" y2=\"148.3918120029026\" stroke-linecap=\"round\" style=\"stroke:white;stroke-width:2\"/><line x1=\"156.75540553216672\" y1=\"148.3918120029026\" x2=\"143.32037668962232\" y2=\"134.9567831603582\" stroke-linecap=\"round\" style=\"stroke:white;stroke-width:2\"/><line x1=\"143.32037668962232\" y1=\"134.9567831603582\" x2=\"156.75540553216672\" y2=\"148.3918120029026\" stroke-linecap=\"round\" style=\"stroke:white;stroke-width:2\"/><line x1=\"156.75540553216672\" y1=\"148.3918120029026\" x2=\"176.6739898192088\" y2=\"159.8918120029026\" stroke-linecap=\"round\" style=\"stroke:white;stroke-width:2\"/><line x1=\"176.6739898192088\" y1=\"159.8918120029026\" x2=\"203.7199129553027\" y2=\"167.1387452657732\" stroke-linecap=\"round\" style=\"stroke:white;stroke-width:2\"/><line x1=\"203.7199129553027\" y1=\"167.1387452657732\" x2=\"183.92092308207936\" y2=\"147.33975539254988\" stroke-linecap=\"round\" style=\"stroke:white;stroke-width:2\"/><line x1=\"183.92092308207936\" y1=\"147.33975539254988\" x2=\"164.00233879503728\" y2=\"135.83975539254988\" stroke-linecap=\"round\" style=\"stroke:white;stroke-width:2\"/><line x1=\"164.00233879503728\" y1=\"135.83975539254988\" x2=\"145.64974809554496\" y2=\"130.922193535602\" stroke-linecap=\"round\" style=\"stroke:white;stroke-width:2\"/><line x1=\"145.64974809554496\" y1=\"130.922193535602\" x2=\"164.00233879503725\" y2=\"135.83975539254988\" stroke-linecap=\"round\" style=\"stroke:white;stroke-width:2\"/><line x1=\"164.00233879503725\" y1=\"135.83975539254988\" x2=\"150.56730995249285\" y2=\"122.40472655000548\" stroke-linecap=\"round\" style=\"stroke:white;stroke-width:2\"/><line x1=\"150.56730995249285\" y1=\"122.40472655000548\" x2=\"164.00233879503725\" y2=\"135.83975539254988\" stroke-linecap=\"round\" style=\"stroke:white;stroke-width:2\"/><line x1=\"164.00233879503725\" y1=\"135.83975539254988\" x2=\"183.92092308207933\" y2=\"147.33975539254988\" stroke-linecap=\"round\" style=\"stroke:white;stroke-width:2\"/><line x1=\"183.92092308207933\" y1=\"147.33975539254988\" x2=\"172.42092308207933\" y2=\"127.4211711055078\" stroke-linecap=\"round\" style=\"stroke:white;stroke-width:2\"/><line x1=\"172.42092308207933\" y1=\"127.4211711055078\" x2=\"158.98589423953493\" y2=\"113.9861422629634\" stroke-linecap=\"round\" style=\"stroke:white;stroke-width:2\"/><line x1=\"158.98589423953493\" y1=\"113.9861422629634\" x2=\"172.42092308207933\" y2=\"127.4211711055078\" stroke-linecap=\"round\" style=\"stroke:white;stroke-width:2\"/><line x1=\"172.42092308207933\" y1=\"127.4211711055078\" x2=\"167.50336122513144\" y2=\"109.0685804060155\" stroke-linecap=\"round\" style=\"stroke:white;stroke-width:2\"/><line x1=\"167.50336122513144\" y1=\"109.0685804060155\" x2=\"172.42092308207933\" y2=\"127.4211711055078\" stroke-linecap=\"round\" style=\"stroke:white;stroke-width:2\"/><line x1=\"172.42092308207933\" y1=\"127.4211711055078\" x2=\"183.92092308207933\" y2=\"147.33975539254988\" stroke-linecap=\"round\" style=\"stroke:white;stroke-width:2\"/><line x1=\"183.92092308207933\" y1=\"147.33975539254988\" x2=\"203.71991295530268\" y2=\"167.1387452657732\" stroke-linecap=\"round\" style=\"stroke:white;stroke-width:2\"/><line x1=\"203.71991295530268\" y1=\"167.1387452657732\" x2=\"233.1647766839736\" y2=\"184.1387452657732\" stroke-linecap=\"round\" style=\"stroke:white;stroke-width:2\"/><line x1=\"233.1647766839736\" y1=\"184.1387452657732\" x2=\"216.16477668397357\" y2=\"154.6938815371023\" stroke-linecap=\"round\" style=\"stroke:white;stroke-width:2\"/><line x1=\"216.16477668397357\" y1=\"154.6938815371023\" x2=\"196.36578681075025\" y2=\"134.89489166387898\" stroke-linecap=\"round\" style=\"stroke:white;stroke-width:2\"/><line x1=\"196.36578681075025\" y1=\"134.89489166387898\" x2=\"176.44720252370817\" y2=\"123.39489166387898\" stroke-linecap=\"round\" style=\"stroke:white;stroke-width:2\"/><line x1=\"176.44720252370817\" y1=\"123.39489166387898\" x2=\"158.09461182421586\" y2=\"118.47732980693108\" stroke-linecap=\"round\" style=\"stroke:white;stroke-width:2\"/><line x1=\"158.09461182421586\" y1=\"118.47732980693108\" x2=\"176.44720252370814\" y2=\"123.39489166387898\" stroke-linecap=\"round\" style=\"stroke:white;stroke-width:2\"/><line x1=\"176.44720252370814\" y1=\"123.39489166387898\" x2=\"163.01217368116374\" y2=\"109.95986282133458\" stroke-linecap=\"round\" style=\"stroke:white;stroke-width:2\"/><line x1=\"163.01217368116374\" y1=\"109.95986282133458\" x2=\"176.44720252370814\" y2=\"123.39489166387898\" stroke-linecap=\"round\" style=\"stroke:white;stroke-width:2\"/><line x1=\"176.44720252370814\" y1=\"123.39489166387898\" x2=\"196.36578681075022\" y2=\"134.89489166387898\" stroke-linecap=\"round\" style=\"stroke:white;stroke-width:2\"/><line x1=\"196.36578681075022\" y1=\"134.89489166387898\" x2=\"184.86578681075022\" y2=\"114.9763073768369\" stroke-linecap=\"round\" style=\"stroke:white;stroke-width:2\"/><line x1=\"184.86578681075022\" y1=\"114.9763073768369\" x2=\"171.43075796820582\" y2=\"101.5412785342925\" stroke-linecap=\"round\" style=\"stroke:white;stroke-width:2\"/><line x1=\"171.43075796820582\" y1=\"101.5412785342925\" x2=\"184.86578681075022\" y2=\"114.9763073768369\" stroke-linecap=\"round\" style=\"stroke:white;stroke-width:2\"/><line x1=\"184.86578681075022\" y1=\"114.9763073768369\" x2=\"179.94822495380234\" y2=\"96.6237166773446\" stroke-linecap=\"round\" style=\"stroke:white;stroke-width:2\"/><line x1=\"179.94822495380234\" y1=\"96.6237166773446\" x2=\"184.86578681075022\" y2=\"114.9763073768369\" stroke-linecap=\"round\" style=\"stroke:white;stroke-width:2\"/><line x1=\"184.86578681075022\" y1=\"114.9763073768369\" x2=\"196.36578681075022\" y2=\"134.89489166387898\" stroke-linecap=\"round\" style=\"stroke:white;stroke-width:2\"/><line x1=\"196.36578681075022\" y1=\"134.89489166387898\" x2=\"216.16477668397357\" y2=\"154.6938815371023\" stroke-linecap=\"round\" style=\"stroke:white;stroke-width:2\"/><line x1=\"216.16477668397357\" y1=\"154.6938815371023\" x2=\"208.917843421103\" y2=\"127.6479584010084\" stroke-linecap=\"round\" style=\"stroke:white;stroke-width:2\"/><line x1=\"208.917843421103\" y1=\"127.6479584010084\" x2=\"197.417843421103\" y2=\"107.72937411396632\" stroke-linecap=\"round\" style=\"stroke:white;stroke-width:2\"/><line x1=\"197.417843421103\" y1=\"107.72937411396632\" x2=\"183.9828145785586\" y2=\"94.29434527142192\" stroke-linecap=\"round\" style=\"stroke:white;stroke-width:2\"/><line x1=\"183.9828145785586\" y1=\"94.29434527142192\" x2=\"197.417843421103\" y2=\"107.72937411396632\" stroke-linecap=\"round\" style=\"stroke:white;stroke-width:2\"/><line x1=\"197.417843421103\" y1=\"107.72937411396632\" x2=\"192.5002815641551\" y2=\"89.37678341447402\" stroke-linecap=\"round\" style=\"stroke:white;stroke-width:2\"/><line x1=\"192.5002815641551\" y1=\"89.37678341447402\" x2=\"197.417843421103\" y2=\"107.72937411396632\" stroke-linecap=\"round\" style=\"stroke:white;stroke-width:2\"/><line x1=\"197.417843421103\" y1=\"107.72937411396632\" x2=\"208.917843421103\" y2=\"127.6479584010084\" stroke-linecap=\"round\" style=\"stroke:white;stroke-width:2\"/><line x1=\"208.917843421103\" y1=\"127.6479584010084\" x2=\"208.917843421103\" y2=\"104.6479584010084\" stroke-linecap=\"round\" style=\"stroke:white;stroke-width:2\"/><line x1=\"208.917843421103\" y1=\"104.6479584010084\" x2=\"204.0002815641551\" y2=\"86.2953677015161\" stroke-linecap=\"round\" style=\"stroke:white;stroke-width:2\"/><line x1=\"204.0002815641551\" y1=\"86.2953677015161\" x2=\"208.917843421103\" y2=\"104.6479584010084\" stroke-linecap=\"round\" style=\"stroke:white;stroke-width:2\"/><line x1=\"208.917843421103\" y1=\"104.6479584010084\" x2=\"213.83540527805087\" y2=\"86.2953677015161\" stroke-linecap=\"round\" style=\"stroke:white;stroke-width:2\"/><line x1=\"213.83540527805087\" y1=\"86.2953677015161\" x2=\"208.917843421103\" y2=\"104.6479584010084\" stroke-linecap=\"round\" style=\"stroke:white;stroke-width:2\"/><line x1=\"208.917843421103\" y1=\"104.6479584010084\" x2=\"208.917843421103\" y2=\"127.6479584010084\" stroke-linecap=\"round\" style=\"stroke:white;stroke-width:2\"/><line x1=\"208.917843421103\" y1=\"127.6479584010084\" x2=\"216.16477668397357\" y2=\"154.6938815371023\" stroke-linecap=\"round\" style=\"stroke:white;stroke-width:2\"/><line x1=\"216.16477668397357\" y1=\"154.6938815371023\" x2=\"233.16477668397357\" y2=\"184.1387452657732\" stroke-linecap=\"round\" style=\"stroke:white;stroke-width:2\"/><line x1=\"233.16477668397357\" y1=\"184.1387452657732\" x2=\"262.8632614938086\" y2=\"213.8372300756082\" stroke-linecap=\"round\" style=\"stroke:white;stroke-width:2\"/><line x1=\"262.8632614938086\" y1=\"213.8372300756082\" x2=\"251.9928615995027\" y2=\"173.26834537146732\" stroke-linecap=\"round\" style=\"stroke:white;stroke-width:2\"/><line x1=\"251.9928615995027\" y1=\"173.26834537146732\" x2=\"234.9928615995027\" y2=\"143.82348164279642\" stroke-linecap=\"round\" style=\"stroke:white;stroke-width:2\"/><line x1=\"234.9928615995027\" y1=\"143.82348164279642\" x2=\"215.19387172627938\" y2=\"124.0244917695731\" stroke-linecap=\"round\" style=\"stroke:white;stroke-width:2\"/><line x1=\"215.19387172627938\" y1=\"124.0244917695731\" x2=\"195.2752874392373\" y2=\"112.5244917695731\" stroke-linecap=\"round\" style=\"stroke:white;stroke-width:2\"/><line x1=\"195.2752874392373\" y1=\"112.5244917695731\" x2=\"176.922696739745\" y2=\"107.6069299126252\" stroke-linecap=\"round\" style=\"stroke:white;stroke-width:2\"/><line x1=\"176.922696739745\" y1=\"107.6069299126252\" x2=\"195.27528743923727\" y2=\"112.5244917695731\" stroke-linecap=\"round\" style=\"stroke:white;stroke-width:2\"/><line x1=\"195.27528743923727\" y1=\"112.5244917695731\" x2=\"181.84025859669288\" y2=\"99.0894629270287\" stroke-linecap=\"round\" style=\"stroke:white;stroke-width:2\"/><line x1=\"181.84025859669288\" y1=\"99.0894629270287\" x2=\"195.27528743923727\" y2=\"112.5244917695731\" stroke-linecap=\"round\" style=\"stroke:white;stroke-width:2\"/><line x1=\"195.27528743923727\" y1=\"112.5244917695731\" x2=\"215.19387172627935\" y2=\"124.0244917695731\" stroke-linecap=\"round\" style=\"stroke:white;stroke-width:2\"/><line x1=\"215.19387172627935\" y1=\"124.0244917695731\" x2=\"203.69387172627935\" y2=\"104.10590748253102\" stroke-linecap=\"round\" style=\"stroke:white;stroke-width:2\"/><line x1=\"203.69387172627935\" y1=\"104.10590748253102\" x2=\"190.25884288373496\" y2=\"90.67087863998663\" stroke-linecap=\"round\" style=\"stroke:white;stroke-width:2\"/><line x1=\"190.25884288373496\" y1=\"90.67087863998663\" x2=\"203.69387172627935\" y2=\"104.10590748253102\" stroke-linecap=\"round\" style=\"stroke:white;stroke-width:2\"/><line x1=\"203.69387172627935\" y1=\"104.10590748253102\" x2=\"198.77630986933147\" y2=\"85.75331678303873\" stroke-linecap=\"round\" style=\"stroke:white;stroke-width:2\"/><line x1=\"198.77630986933147\" y1=\"85.75331678303873\" x2=\"203.69387172627935\" y2=\"104.10590748253102\" stroke-linecap=\"round\" style=\"stroke:white;stroke-width:2\"/><line x1=\"203.69387172627935\" y1=\"104.10590748253102\" x2=\"215.19387172627935\" y2=\"124.0244917695731\" stroke-linecap=\"round\" style=\"stroke:white;stroke-width:2\"/><line x1=\"215.19387172627935\" y1=\"124.0244917695731\" x2=\"234.9928615995027\" y2=\"143.82348164279642\" stroke-linecap=\"round\" style=\"stroke:white;stroke-width:2\"/><line x1=\"234.9928615995027\" y1=\"143.82348164279642\" x2=\"227.74592833663212\" y2=\"116.77755850670252\" stroke-linecap=\"round\" style=\"stroke:white;stroke-width:2\"/><line x1=\"227.74592833663212\" y1=\"116.77755850670252\" x2=\"216.24592833663212\" y2=\"96.85897421966044\" stroke-linecap=\"round\" style=\"stroke:white;stroke-width:2\"/><line x1=\"216.24592833663212\" y1=\"96.85897421966044\" x2=\"202.81089949408772\" y2=\"83.42394537711604\" stroke-linecap=\"round\" style=\"stroke:white;stroke-width:2\"/><line x1=\"202.81089949408772\" y1=\"83.42394537711604\" x2=\"216.24592833663212\" y2=\"96.85897421966044\" stroke-linecap=\"round\" style=\"stroke:white;stroke-width:2\"/><line x1=\"216.24592833663212\" y1=\"96.85897421966044\" x2=\"211.32836647968423\" y2=\"78.50638352016814\" stroke-linecap=\"round\" style=\"stroke:white;stroke-width:2\"/><line x1=\"211.32836647968423\" y1=\"78.50638352016814\" x2=\"216.24592833663212\" y2=\"96.85897421966044\" stroke-linecap=\"round\" style=\"stroke:white;stroke-width:2\"/><line x1=\"216.24592833663212\" y1=\"96.85897421966044\" x2=\"227.74592833663212\" y2=\"116.77755850670252\" stroke-linecap=\"round\" style=\"stroke:white;stroke-width:2\"/><line x1=\"227.74592833663212\" y1=\"116.77755850670252\" x2=\"227.74592833663212\" y2=\"93.77755850670252\" stroke-linecap=\"round\" style=\"stroke:white;stroke-width:2\"/><line x1=\"227.74592833663212\" y1=\"93.77755850670252\" x2=\"222.82836647968423\" y2=\"75.42496780721022\" stroke-linecap=\"round\" style=\"stroke:white;stroke-width:2\"/><line x1=\"222.82836647968423\" y1=\"75.42496780721022\" x2=\"227.74592833663212\" y2=\"93.77755850670252\" stroke-linecap=\"round\" style=\"stroke:white;stroke-width:2\"/><line x1=\"227.74592833663212\" y1=\"93.77755850670252\" x2=\"232.66349019358\" y2=\"75.42496780721022\" stroke-linecap=\"round\" style=\"stroke:white;stroke-width:2\"/><line x1=\"232.66349019358\" y1=\"75.42496780721022\" x2=\"227.74592833663212\" y2=\"93.77755850670252\" stroke-linecap=\"round\" style=\"stroke:white;stroke-width:2\"/><line x1=\"227.74592833663212\" y1=\"93.77755850670252\" x2=\"227.74592833663212\" y2=\"116.77755850670252\" stroke-linecap=\"round\" style=\"stroke:white;stroke-width:2\"/><line x1=\"227.74592833663212\" y1=\"116.77755850670252\" x2=\"234.9928615995027\" y2=\"143.82348164279642\" stroke-linecap=\"round\" style=\"stroke:white;stroke-width:2\"/><line x1=\"234.9928615995027\" y1=\"143.82348164279642\" x2=\"251.9928615995027\" y2=\"173.26834537146732\" stroke-linecap=\"round\" style=\"stroke:white;stroke-width:2\"/><line x1=\"251.9928615995027\" y1=\"173.26834537146732\" x2=\"251.9928615995027\" y2=\"139.26834537146732\" stroke-linecap=\"round\" style=\"stroke:white;stroke-width:2\"/><line x1=\"251.9928615995027\" y1=\"139.26834537146732\" x2=\"244.74592833663212\" y2=\"112.22242223537341\" stroke-linecap=\"round\" style=\"stroke:white;stroke-width:2\"/><line x1=\"244.74592833663212\" y1=\"112.22242223537341\" x2=\"233.24592833663212\" y2=\"92.30383794833133\" stroke-linecap=\"round\" style=\"stroke:white;stroke-width:2\"/><line x1=\"233.24592833663212\" y1=\"92.30383794833133\" x2=\"219.81089949408772\" y2=\"78.86880910578694\" stroke-linecap=\"round\" style=\"stroke:white;stroke-width:2\"/><line x1=\"219.81089949408772\" y1=\"78.86880910578694\" x2=\"233.24592833663212\" y2=\"92.30383794833133\" stroke-linecap=\"round\" style=\"stroke:white;stroke-width:2\"/><line x1=\"233.24592833663212\" y1=\"92.30383794833133\" x2=\"228.32836647968423\" y2=\"73.95124724883904\" stroke-linecap=\"round\" style=\"stroke:white;stroke-width:2\"/><line x1=\"228.32836647968423\" y1=\"73.95124724883904\" x2=\"233.24592833663212\" y2=\"92.30383794833133\" stroke-linecap=\"round\" style=\"stroke:white;stroke-width:2\"/><line x1=\"233.24592833663212\" y1=\"92.30383794833133\" x2=\"244.74592833663212\" y2=\"112.22242223537341\" stroke-linecap=\"round\" style=\"stroke:white;stroke-width:2\"/><line x1=\"244.74592833663212\" y1=\"112.22242223537341\" x2=\"244.74592833663212\" y2=\"89.22242223537341\" stroke-linecap=\"round\" style=\"stroke:white;stroke-width:2\"/><line x1=\"244.74592833663212\" y1=\"89.22242223537341\" x2=\"239.82836647968423\" y2=\"70.86983153588112\" stroke-linecap=\"round\" style=\"stroke:white;stroke-width:2\"/><line x1=\"239.82836647968423\" y1=\"70.86983153588112\" x2=\"244.74592833663212\" y2=\"89.22242223537341\" stroke-linecap=\"round\" style=\"stroke:white;stroke-width:2\"/><line x1=\"244.74592833663212\" y1=\"89.22242223537341\" x2=\"249.66349019358\" y2=\"70.86983153588112\" stroke-linecap=\"round\" style=\"stroke:white;stroke-width:2\"/><line x1=\"249.66349019358\" y1=\"70.86983153588112\" x2=\"244.74592833663212\" y2=\"89.22242223537341\" stroke-linecap=\"round\" style=\"stroke:white;stroke-width:2\"/><line x1=\"244.74592833663212\" y1=\"89.22242223537341\" x2=\"244.74592833663212\" y2=\"112.22242223537341\" stroke-linecap=\"round\" style=\"stroke:white;stroke-width:2\"/><line x1=\"244.74592833663212\" y1=\"112.22242223537341\" x2=\"251.9928615995027\" y2=\"139.26834537146732\" stroke-linecap=\"round\" style=\"stroke:white;stroke-width:2\"/><line x1=\"251.9928615995027\" y1=\"139.26834537146732\" x2=\"259.2397948623733\" y2=\"112.2224222353734\" stroke-linecap=\"round\" style=\"stroke:white;stroke-width:2\"/><line x1=\"259.2397948623733\" y1=\"112.2224222353734\" x2=\"259.2397948623733\" y2=\"89.2224222353734\" stroke-linecap=\"round\" style=\"stroke:white;stroke-width:2\"/><line x1=\"259.2397948623733\" y1=\"89.2224222353734\" x2=\"254.3222330054254\" y2=\"70.8698315358811\" stroke-linecap=\"round\" style=\"stroke:white;stroke-width:2\"/><line x1=\"254.3222330054254\" y1=\"70.8698315358811\" x2=\"259.2397948623733\" y2=\"89.2224222353734\" stroke-linecap=\"round\" style=\"stroke:white;stroke-width:2\"/><line x1=\"259.2397948623733\" y1=\"89.2224222353734\" x2=\"264.15735671932117\" y2=\"70.8698315358811\" stroke-linecap=\"round\" style=\"stroke:white;stroke-width:2\"/><line x1=\"264.15735671932117\" y1=\"70.8698315358811\" x2=\"259.2397948623733\" y2=\"89.2224222353734\" stroke-linecap=\"round\" style=\"stroke:white;stroke-width:2\"/><line x1=\"259.2397948623733\" y1=\"89.2224222353734\" x2=\"259.2397948623733\" y2=\"112.2224222353734\" stroke-linecap=\"round\" style=\"stroke:white;stroke-width:2\"/><line x1=\"259.2397948623733\" y1=\"112.2224222353734\" x2=\"270.7397948623733\" y2=\"92.3038379483313\" stroke-linecap=\"round\" style=\"stroke:white;stroke-width:2\"/><line x1=\"270.7397948623733\" y1=\"92.3038379483313\" x2=\"275.65735671932117\" y2=\"73.95124724883901\" stroke-linecap=\"round\" style=\"stroke:white;stroke-width:2\"/><line x1=\"275.65735671932117\" y1=\"73.95124724883901\" x2=\"270.7397948623733\" y2=\"92.3038379483313\" stroke-linecap=\"round\" style=\"stroke:white;stroke-width:2\"/><line x1=\"270.7397948623733\" y1=\"92.3038379483313\" x2=\"284.1748237049177\" y2=\"78.8688091057869\" stroke-linecap=\"round\" style=\"stroke:white;stroke-width:2\"/><line x1=\"284.1748237049177\" y1=\"78.8688091057869\" x2=\"270.7397948623733\" y2=\"92.3038379483313\" stroke-linecap=\"round\" style=\"stroke:white;stroke-width:2\"/><line x1=\"270.7397948623733\" y1=\"92.3038379483313\" x2=\"259.2397948623733\" y2=\"112.22242223537339\" stroke-linecap=\"round\" style=\"stroke:white;stroke-width:2\"/><line x1=\"259.2397948623733\" y1=\"112.22242223537339\" x2=\"251.99286159950273\" y2=\"139.2683453714673\" stroke-linecap=\"round\" style=\"stroke:white;stroke-width:2\"/><line x1=\"251.99286159950273\" y1=\"139.2683453714673\" x2=\"251.99286159950273\" y2=\"173.2683453714673\" stroke-linecap=\"round\" style=\"stroke:white;stroke-width:2\"/><line x1=\"251.99286159950273\" y1=\"173.2683453714673\" x2=\"262.8632614938086\" y2=\"213.83723007560815\" stroke-linecap=\"round\" style=\"stroke:white;stroke-width:2\"/><line x1=\"262.8632614938086\" y1=\"213.83723007560815\" x2=\"288.8632614938086\" y2=\"258.87055107239894\" stroke-linecap=\"round\" style=\"stroke:white;stroke-width:2\"/><line x1=\"288.8632614938086\" y1=\"258.87055107239894\" x2=\"334.11809548974765\" y2=\"304.125385068338\" stroke-linecap=\"round\" style=\"stroke:white;stroke-width:2\"/><line x1=\"334.11809548974765\" y1=\"304.125385068338\" x2=\"317.5536766031863\" y2=\"242.30613218583764\" stroke-linecap=\"round\" style=\"stroke:white;stroke-width:4\"/><line x1=\"317.5536766031863\" y1=\"242.30613218583764\" x2=\"291.5536766031863\" y2=\"197.27281118904685\" stroke-linecap=\"round\" style=\"stroke:white;stroke-width:3\"/><line x1=\"291.5536766031863\" y1=\"197.27281118904685\" x2=\"261.8551917933513\" y2=\"167.57432637921187\" stroke-linecap=\"round\" style=\"stroke:white;stroke-width:2\"/><line x1=\"261.8551917933513\" y1=\"167.57432637921187\" x2=\"232.41032806468039\" y2=\"150.57432637921187\" stroke-linecap=\"round\" style=\"stroke:white;stroke-width:2\"/><line x1=\"232.41032806468039\" y1=\"150.57432637921187\" x2=\"205.36440492858648\" y2=\"143.32739311634128\" stroke-linecap=\"round\" style=\"stroke:white;stroke-width:2\"/><line x1=\"205.36440492858648\" y1=\"143.32739311634128\" x2=\"182.36440492858648\" y2=\"143.32739311634128\" stroke-linecap=\"round\" style=\"stroke:white;stroke-width:2\"/><line x1=\"182.36440492858648\" y1=\"143.32739311634128\" x2=\"164.01181422909417\" y2=\"148.2449549732892\" stroke-linecap=\"round\" style=\"stroke:white;stroke-width:2\"/><line x1=\"164.01181422909417\" y1=\"148.2449549732892\" x2=\"182.36440492858645\" y2=\"143.32739311634128\" stroke-linecap=\"round\" style=\"stroke:white;stroke-width:2\"/><line x1=\"182.36440492858645\" y1=\"143.32739311634128\" x2=\"164.01181422909417\" y2=\"138.4098312593934\" stroke-linecap=\"round\" style=\"stroke:white;stroke-width:2\"/><line x1=\"164.01181422909417\" y1=\"138.4098312593934\" x2=\"182.36440492858645\" y2=\"143.32739311634128\" stroke-linecap=\"round\" style=\"stroke:white;stroke-width:2\"/><line x1=\"182.36440492858645\" y1=\"143.32739311634128\" x2=\"205.36440492858645\" y2=\"143.32739311634128\" stroke-linecap=\"round\" style=\"stroke:white;stroke-width:2\"/><line x1=\"205.36440492858645\" y1=\"143.32739311634128\" x2=\"185.44582064154437\" y2=\"131.82739311634128\" stroke-linecap=\"round\" style=\"stroke:white;stroke-width:2\"/><line x1=\"185.44582064154437\" y1=\"131.82739311634128\" x2=\"167.09322994205206\" y2=\"126.90983125939339\" stroke-linecap=\"round\" style=\"stroke:white;stroke-width:2\"/><line x1=\"167.09322994205206\" y1=\"126.90983125939339\" x2=\"185.44582064154434\" y2=\"131.82739311634128\" stroke-linecap=\"round\" style=\"stroke:white;stroke-width:2\"/><line x1=\"185.44582064154434\" y1=\"131.82739311634128\" x2=\"172.01079179899995\" y2=\"118.39236427379689\" stroke-linecap=\"round\" style=\"stroke:white;stroke-width:2\"/><line x1=\"172.01079179899995\" y1=\"118.39236427379689\" x2=\"185.44582064154434\" y2=\"131.82739311634128\" stroke-linecap=\"round\" style=\"stroke:white;stroke-width:2\"/><line x1=\"185.44582064154434\" y1=\"131.82739311634128\" x2=\"205.36440492858642\" y2=\"143.32739311634128\" stroke-linecap=\"round\" style=\"stroke:white;stroke-width:2\"/><line x1=\"205.36440492858642\" y1=\"143.32739311634128\" x2=\"232.41032806468033\" y2=\"150.57432637921187\" stroke-linecap=\"round\" style=\"stroke:white;stroke-width:2\"/><line x1=\"232.41032806468033\" y1=\"150.57432637921187\" x2=\"212.61133819145698\" y2=\"130.77533650598855\" stroke-linecap=\"round\" style=\"stroke:white;stroke-width:2\"/><line x1=\"212.61133819145698\" y1=\"130.77533650598855\" x2=\"192.6927539044149\" y2=\"119.27533650598855\" stroke-linecap=\"round\" style=\"stroke:white;stroke-width:2\"/><line x1=\"192.6927539044149\" y1=\"119.27533650598855\" x2=\"174.3401632049226\" y2=\"114.35777464904065\" stroke-linecap=\"round\" style=\"stroke:white;stroke-width:2\"/><line x1=\"174.3401632049226\" y1=\"114.35777464904065\" x2=\"192.69275390441487\" y2=\"119.27533650598855\" stroke-linecap=\"round\" style=\"stroke:white;stroke-width:2\"/><line x1=\"192.69275390441487\" y1=\"119.27533650598855\" x2=\"179.25772506187047\" y2=\"105.84030766344415\" stroke-linecap=\"round\" style=\"stroke:white;stroke-width:2\"/><line x1=\"179.25772506187047\" y1=\"105.84030766344415\" x2=\"192.69275390441487\" y2=\"119.27533650598855\" stroke-linecap=\"round\" style=\"stroke:white;stroke-width:2\"/><line x1=\"192.69275390441487\" y1=\"119.27533650598855\" x2=\"212.61133819145695\" y2=\"130.77533650598855\" stroke-linecap=\"round\" style=\"stroke:white;stroke-width:2\"/><line x1=\"212.61133819145695\" y1=\"130.77533650598855\" x2=\"201.11133819145695\" y2=\"110.85675221894647\" stroke-linecap=\"round\" style=\"stroke:white;stroke-width:2\"/><line x1=\"201.11133819145695\" y1=\"110.85675221894647\" x2=\"187.67630934891255\" y2=\"97.42172337640207\" stroke-linecap=\"round\" style=\"stroke:white;stroke-width:2\"/><line x1=\"187.67630934891255\" y1=\"97.42172337640207\" x2=\"201.11133819145695\" y2=\"110.85675221894647\" stroke-linecap=\"round\" style=\"stroke:white;stroke-width:2\"/><line x1=\"201.11133819145695\" y1=\"110.85675221894647\" x2=\"196.19377633450907\" y2=\"92.50416151945417\" stroke-linecap=\"round\" style=\"stroke:white;stroke-width:2\"/><line x1=\"196.19377633450907\" y1=\"92.50416151945417\" x2=\"201.11133819145695\" y2=\"110.85675221894647\" stroke-linecap=\"round\" style=\"stroke:white;stroke-width:2\"/><line x1=\"201.11133819145695\" y1=\"110.85675221894647\" x2=\"212.61133819145695\" y2=\"130.77533650598855\" stroke-linecap=\"round\" style=\"stroke:white;stroke-width:2\"/><line x1=\"212.61133819145695\" y1=\"130.77533650598855\" x2=\"232.4103280646803\" y2=\"150.57432637921187\" stroke-linecap=\"round\" style=\"stroke:white;stroke-width:2\"/><line x1=\"232.4103280646803\" y1=\"150.57432637921187\" x2=\"261.8551917933512\" y2=\"167.57432637921187\" stroke-linecap=\"round\" style=\"stroke:white;stroke-width:2\"/><line x1=\"261.8551917933512\" y1=\"167.57432637921187\" x2=\"244.8551917933512\" y2=\"138.12946265054097\" stroke-linecap=\"round\" style=\"stroke:white;stroke-width:2\"/><line x1=\"244.8551917933512\" y1=\"138.12946265054097\" x2=\"225.05620192012788\" y2=\"118.33047277731765\" stroke-linecap=\"round\" style=\"stroke:white;stroke-width:2\"/><line x1=\"225.05620192012788\" y1=\"118.33047277731765\" x2=\"205.1376176330858\" y2=\"106.83047277731765\" stroke-linecap=\"round\" style=\"stroke:white;stroke-width:2\"/><line x1=\"205.1376176330858\" y1=\"106.83047277731765\" x2=\"186.78502693359349\" y2=\"101.91291092036975\" stroke-linecap=\"round\" style=\"stroke:white;stroke-width:2\"/><line x1=\"186.78502693359349\" y1=\"101.91291092036975\" x2=\"205.13761763308577\" y2=\"106.83047277731765\" stroke-linecap=\"round\" style=\"stroke:white;stroke-width:2\"/><line x1=\"205.13761763308577\" y1=\"106.83047277731765\" x2=\"191.70258879054137\" y2=\"93.39544393477325\" stroke-linecap=\"round\" style=\"stroke:white;stroke-width:2\"/><line x1=\"191.70258879054137\" y1=\"93.39544393477325\" x2=\"205.13761763308577\" y2=\"106.83047277731765\" stroke-linecap=\"round\" style=\"stroke:white;stroke-width:2\"/><line x1=\"205.13761763308577\" y1=\"106.83047277731765\" x2=\"225.05620192012785\" y2=\"118.33047277731765\" stroke-linecap=\"round\" style=\"stroke:white;stroke-width:2\"/><line x1=\"225.05620192012785\" y1=\"118.33047277731765\" x2=\"213.55620192012785\" y2=\"98.41188849027557\" stroke-linecap=\"round\" style=\"stroke:white;stroke-width:2\"/><line x1=\"213.55620192012785\" y1=\"98.41188849027557\" x2=\"200.12117307758345\" y2=\"84.97685964773117\" stroke-linecap=\"round\" style=\"stroke:white;stroke-width:2\"/><line x1=\"200.12117307758345\" y1=\"84.97685964773117\" x2=\"213.55620192012785\" y2=\"98.41188849027557\" stroke-linecap=\"round\" style=\"stroke:white;stroke-width:2\"/><line x1=\"213.55620192012785\" y1=\"98.41188849027557\" x2=\"208.63864006317996\" y2=\"80.05929779078328\" stroke-linecap=\"round\" style=\"stroke:white;stroke-width:2\"/><line x1=\"208.63864006317996\" y1=\"80.05929779078328\" x2=\"213.55620192012785\" y2=\"98.41188849027557\" stroke-linecap=\"round\" style=\"stroke:white;stroke-width:2\"/><line x1=\"213.55620192012785\" y1=\"98.41188849027557\" x2=\"225.05620192012785\" y2=\"118.33047277731765\" stroke-linecap=\"round\" style=\"stroke:white;stroke-width:2\"/><line x1=\"225.05620192012785\" y1=\"118.33047277731765\" x2=\"244.8551917933512\" y2=\"138.12946265054097\" stroke-linecap=\"round\" style=\"stroke:white;stroke-width:2\"/><line x1=\"244.8551917933512\" y1=\"138.12946265054097\" x2=\"237.6082585304806\" y2=\"111.08353951444707\" stroke-linecap=\"round\" style=\"stroke:white;stroke-width:2\"/><line x1=\"237.6082585304806\" y1=\"111.08353951444707\" x2=\"226.1082585304806\" y2=\"91.16495522740499\" stroke-linecap=\"round\" style=\"stroke:white;stroke-width:2\"/><line x1=\"226.1082585304806\" y1=\"91.16495522740499\" x2=\"212.6732296879362\" y2=\"77.72992638486059\" stroke-linecap=\"round\" style=\"stroke:white;stroke-width:2\"/><line x1=\"212.6732296879362\" y1=\"77.72992638486059\" x2=\"226.1082585304806\" y2=\"91.16495522740499\" stroke-linecap=\"round\" style=\"stroke:white;stroke-width:2\"/><line x1=\"226.1082585304806\" y1=\"91.16495522740499\" x2=\"221.19069667353273\" y2=\"72.81236452791269\" stroke-linecap=\"round\" style=\"stroke:white;stroke-width:2\"/><line x1=\"221.19069667353273\" y1=\"72.81236452791269\" x2=\"226.1082585304806\" y2=\"91.16495522740499\" stroke-linecap=\"round\" style=\"stroke:white;stroke-width:2\"/><line x1=\"226.1082585304806\" y1=\"91.16495522740499\" x2=\"237.6082585304806\" y2=\"111.08353951444707\" stroke-linecap=\"round\" style=\"stroke:white;stroke-width:2\"/><line x1=\"237.6082585304806\" y1=\"111.08353951444707\" x2=\"237.6082585304806\" y2=\"88.08353951444707\" stroke-linecap=\"round\" style=\"stroke:white;stroke-width:2\"/><line x1=\"237.6082585304806\" y1=\"88.08353951444707\" x2=\"232.69069667353273\" y2=\"69.73094881495477\" stroke-linecap=\"round\" style=\"stroke:white;stroke-width:2\"/><line x1=\"232.69069667353273\" y1=\"69.73094881495477\" x2=\"237.6082585304806\" y2=\"88.08353951444707\" stroke-linecap=\"round\" style=\"stroke:white;stroke-width:2\"/><line x1=\"237.6082585304806\" y1=\"88.08353951444707\" x2=\"242.5258203874285\" y2=\"69.73094881495477\" stroke-linecap=\"round\" style=\"stroke:white;stroke-width:2\"/><line x1=\"242.5258203874285\" y1=\"69.73094881495477\" x2=\"237.6082585304806\" y2=\"88.08353951444707\" stroke-linecap=\"round\" style=\"stroke:white;stroke-width:2\"/><line x1=\"237.6082585304806\" y1=\"88.08353951444707\" x2=\"237.6082585304806\" y2=\"111.08353951444707\" stroke-linecap=\"round\" style=\"stroke:white;stroke-width:2\"/><line x1=\"237.6082585304806\" y1=\"111.08353951444707\" x2=\"244.8551917933512\" y2=\"138.12946265054097\" stroke-linecap=\"round\" style=\"stroke:white;stroke-width:2\"/><line x1=\"244.8551917933512\" y1=\"138.12946265054097\" x2=\"261.8551917933512\" y2=\"167.57432637921187\" stroke-linecap=\"round\" style=\"stroke:white;stroke-width:2\"/><line x1=\"261.8551917933512\" y1=\"167.57432637921187\" x2=\"291.5536766031862\" y2=\"197.27281118904688\" stroke-linecap=\"round\" style=\"stroke:white;stroke-width:2\"/><line x1=\"291.5536766031862\" y1=\"197.27281118904688\" x2=\"280.6832767088803\" y2=\"156.703926484906\" stroke-linecap=\"round\" style=\"stroke:white;stroke-width:2\"/><line x1=\"280.6832767088803\" y1=\"156.703926484906\" x2=\"263.6832767088803\" y2=\"127.2590627562351\" stroke-linecap=\"round\" style=\"stroke:white;stroke-width:2\"/><line x1=\"263.6832767088803\" y1=\"127.2590627562351\" x2=\"243.884286835657\" y2=\"107.46007288301178\" stroke-linecap=\"round\" style=\"stroke:white;stroke-width:2\"/><line x1=\"243.884286835657\" y1=\"107.46007288301178\" x2=\"223.96570254861493\" y2=\"95.96007288301178\" stroke-linecap=\"round\" style=\"stroke:white;stroke-width:2\"/><line x1=\"223.96570254861493\" y1=\"95.96007288301178\" x2=\"205.61311184912262\" y2=\"91.04251102606388\" stroke-linecap=\"round\" style=\"stroke:white;stroke-width:2\"/><line x1=\"205.61311184912262\" y1=\"91.04251102606388\" x2=\"223.9657025486149\" y2=\"95.96007288301178\" stroke-linecap=\"round\" style=\"stroke:white;stroke-width:2\"/><line x1=\"223.9657025486149\" y1=\"95.96007288301178\" x2=\"210.5306737060705\" y2=\"82.52504404046738\" stroke-linecap=\"round\" style=\"stroke:white;stroke-width:2\"/><line x1=\"210.5306737060705\" y1=\"82.52504404046738\" x2=\"223.9657025486149\" y2=\"95.96007288301178\" stroke-linecap=\"round\" style=\"stroke:white;stroke-width:2\"/><line x1=\"223.9657025486149\" y1=\"95.96007288301178\" x2=\"243.88428683565698\" y2=\"107.46007288301178\" stroke-linecap=\"round\" style=\"stroke:white;stroke-width:2\"/><line x1=\"243.88428683565698\" y1=\"107.46007288301178\" x2=\"232.38428683565698\" y2=\"87.5414885959697\" stroke-linecap=\"round\" style=\"stroke:white;stroke-width:2\"/><line x1=\"232.38428683565698\" y1=\"87.5414885959697\" x2=\"218.94925799311258\" y2=\"74.1064597534253\" stroke-linecap=\"round\" style=\"stroke:white;stroke-width:2\"/><line x1=\"218.94925799311258\" y1=\"74.1064597534253\" x2=\"232.38428683565698\" y2=\"87.5414885959697\" stroke-linecap=\"round\" style=\"stroke:white;stroke-width:2\"/><line x1=\"232.38428683565698\" y1=\"87.5414885959697\" x2=\"227.4667249787091\" y2=\"69.1888978964774\" stroke-linecap=\"round\" style=\"stroke:white;stroke-width:2\"/><line x1=\"227.4667249787091\" y1=\"69.1888978964774\" x2=\"232.38428683565698\" y2=\"87.5414885959697\" stroke-linecap=\"round\" style=\"stroke:white;stroke-width:2\"/><line x1=\"232.38428683565698\" y1=\"87.5414885959697\" x2=\"243.88428683565698\" y2=\"107.46007288301178\" stroke-linecap=\"round\" style=\"stroke:white;stroke-width:2\"/><line x1=\"243.88428683565698\" y1=\"107.46007288301178\" x2=\"263.6832767088803\" y2=\"127.2590627562351\" stroke-linecap=\"round\" style=\"stroke:white;stroke-width:2\"/><line x1=\"263.6832767088803\" y1=\"127.2590627562351\" x2=\"256.43634344600974\" y2=\"100.21313962014119\" stroke-linecap=\"round\" style=\"stroke:white;stroke-width:2\"/><line x1=\"256.43634344600974\" y1=\"100.21313962014119\" x2=\"244.93634344600974\" y2=\"80.29455533309911\" stroke-linecap=\"round\" style=\"stroke:white;stroke-width:2\"/><line x1=\"244.93634344600974\" y1=\"80.29455533309911\" x2=\"231.50131460346535\" y2=\"66.85952649055471\" stroke-linecap=\"round\" style=\"stroke:white;stroke-width:2\"/><line x1=\"231.50131460346535\" y1=\"66.85952649055471\" x2=\"244.93634344600974\" y2=\"80.29455533309911\" stroke-linecap=\"round\" style=\"stroke:white;stroke-width:2\"/><line x1=\"244.93634344600974\" y1=\"80.29455533309911\" x2=\"240.01878158906186\" y2=\"61.941964633606815\" stroke-linecap=\"round\" style=\"stroke:white;stroke-width:2\"/><line x1=\"240.01878158906186\" y1=\"61.941964633606815\" x2=\"244.93634344600974\" y2=\"80.29455533309911\" stroke-linecap=\"round\" style=\"stroke:white;stroke-width:2\"/><line x1=\"244.93634344600974\" y1=\"80.29455533309911\" x2=\"256.43634344600974\" y2=\"100.21313962014119\" stroke-linecap=\"round\" style=\"stroke:white;stroke-width:2\"/><line x1=\"256.43634344600974\" y1=\"100.21313962014119\" x2=\"256.43634344600974\" y2=\"77.21313962014119\" stroke-linecap=\"round\" style=\"stroke:white;stroke-width:2\"/><line x1=\"256.43634344600974\" y1=\"77.21313962014119\" x2=\"251.51878158906186\" y2=\"58.860548920648895\" stroke-linecap=\"round\" style=\"stroke:white;stroke-width:2\"/><line x1=\"251.51878158906186\" y1=\"58.860548920648895\" x2=\"256.43634344600974\" y2=\"77.21313962014119\" stroke-linecap=\"round\" style=\"stroke:white;stroke-width:2\"/><line x1=\"256.43634344600974\" y1=\"77.21313962014119\" x2=\"261.3539053029576\" y2=\"58.860548920648895\" stroke-linecap=\"round\" style=\"stroke:white;stroke-width:2\"/><line x1=\"261.3539053029576\" y1=\"58.860548920648895\" x2=\"256.43634344600974\" y2=\"77.21313962014119\" stroke-linecap=\"round\" style=\"stroke:white;stroke-width:2\"/><line x1=\"256.43634344600974\" y1=\"77.21313962014119\" x2=\"256.43634344600974\" y2=\"100.21313962014119\" stroke-linecap=\"round\" style=\"stroke:white;stroke-width:2\"/><line x1=\"256.43634344600974\" y1=\"100.21313962014119\" x2=\"263.6832767088803\" y2=\"127.2590627562351\" stroke-linecap=\"round\" style=\"stroke:white;stroke-width:2\"/><line x1=\"263.6832767088803\" y1=\"127.2590627562351\" x2=\"280.6832767088803\" y2=\"156.703926484906\" stroke-linecap=\"round\" style=\"stroke:white;stroke-width:2\"/><line x1=\"280.6832767088803\" y1=\"156.703926484906\" x2=\"280.6832767088803\" y2=\"122.70392648490599\" stroke-linecap=\"round\" style=\"stroke:white;stroke-width:2\"/><line x1=\"280.6832767088803\" y1=\"122.70392648490599\" x2=\"273.43634344600974\" y2=\"95.65800334881209\" stroke-linecap=\"round\" style=\"stroke:white;stroke-width:2\"/><line x1=\"273.43634344600974\" y1=\"95.65800334881209\" x2=\"261.93634344600974\" y2=\"75.73941906177001\" stroke-linecap=\"round\" style=\"stroke:white;stroke-width:2\"/><line x1=\"261.93634344600974\" y1=\"75.73941906177001\" x2=\"248.50131460346535\" y2=\"62.30439021922561\" stroke-linecap=\"round\" style=\"stroke:white;stroke-width:2\"/><line x1=\"248.50131460346535\" y1=\"62.30439021922561\" x2=\"261.93634344600974\" y2=\"75.73941906177001\" stroke-linecap=\"round\" style=\"stroke:white;stroke-width:2\"/><line x1=\"261.93634344600974\" y1=\"75.73941906177001\" x2=\"257.01878158906186\" y2=\"57.38682836227771\" stroke-linecap=\"round\" style=\"stroke:white;stroke-width:2\"/><line x1=\"257.01878158906186\" y1=\"57.38682836227771\" x2=\"261.93634344600974\" y2=\"75.73941906177001\" stroke-linecap=\"round\" style=\"stroke:white;stroke-width:2\"/><line x1=\"261.93634344600974\" y1=\"75.73941906177001\" x2=\"273.43634344600974\" y2=\"95.65800334881209\" stroke-linecap=\"round\" style=\"stroke:white;stroke-width:2\"/><line x1=\"273.43634344600974\" y1=\"95.65800334881209\" x2=\"273.43634344600974\" y2=\"72.65800334881209\" stroke-linecap=\"round\" style=\"stroke:white;stroke-width:2\"/><line x1=\"273.43634344600974\" y1=\"72.65800334881209\" x2=\"268.51878158906186\" y2=\"54.30541264931979\" stroke-linecap=\"round\" style=\"stroke:white;stroke-width:2\"/><line x1=\"268.51878158906186\" y1=\"54.30541264931979\" x2=\"273.43634344600974\" y2=\"72.65800334881209\" stroke-linecap=\"round\" style=\"stroke:white;stroke-width:2\"/><line x1=\"273.43634344600974\" y1=\"72.65800334881209\" x2=\"278.3539053029576\" y2=\"54.30541264931979\" stroke-linecap=\"round\" style=\"stroke:white;stroke-width:2\"/><line x1=\"278.3539053029576\" y1=\"54.30541264931979\" x2=\"273.43634344600974\" y2=\"72.65800334881209\" stroke-linecap=\"round\" style=\"stroke:white;stroke-width:2\"/><line x1=\"273.43634344600974\" y1=\"72.65800334881209\" x2=\"273.43634344600974\" y2=\"95.65800334881209\" stroke-linecap=\"round\" style=\"stroke:white;stroke-width:2\"/><line x1=\"273.43634344600974\" y1=\"95.65800334881209\" x2=\"280.6832767088803\" y2=\"122.70392648490599\" stroke-linecap=\"round\" style=\"stroke:white;stroke-width:2\"/><line x1=\"280.6832767088803\" y1=\"122.70392648490599\" x2=\"287.9302099717509\" y2=\"95.65800334881207\" stroke-linecap=\"round\" style=\"stroke:white;stroke-width:2\"/><line x1=\"287.9302099717509\" y1=\"95.65800334881207\" x2=\"287.9302099717509\" y2=\"72.65800334881207\" stroke-linecap=\"round\" style=\"stroke:white;stroke-width:2\"/><line x1=\"287.9302099717509\" y1=\"72.65800334881207\" x2=\"283.012648114803\" y2=\"54.30541264931978\" stroke-linecap=\"round\" style=\"stroke:white;stroke-width:2\"/><line x1=\"283.012648114803\" y1=\"54.30541264931978\" x2=\"287.9302099717509\" y2=\"72.65800334881207\" stroke-linecap=\"round\" style=\"stroke:white;stroke-width:2\"/><line x1=\"287.9302099717509\" y1=\"72.65800334881207\" x2=\"292.8477718286988\" y2=\"54.30541264931978\" stroke-linecap=\"round\" style=\"stroke:white;stroke-width:2\"/><line x1=\"292.8477718286988\" y1=\"54.30541264931978\" x2=\"287.9302099717509\" y2=\"72.65800334881207\" stroke-linecap=\"round\" style=\"stroke:white;stroke-width:2\"/><line x1=\"287.9302099717509\" y1=\"72.65800334881207\" x2=\"287.9302099717509\" y2=\"95.65800334881207\" stroke-linecap=\"round\" style=\"stroke:white;stroke-width:2\"/><line x1=\"287.9302099717509\" y1=\"95.65800334881207\" x2=\"299.4302099717509\" y2=\"75.73941906176998\" stroke-linecap=\"round\" style=\"stroke:white;stroke-width:2\"/><line x1=\"299.4302099717509\" y1=\"75.73941906176998\" x2=\"304.3477718286988\" y2=\"57.38682836227768\" stroke-linecap=\"round\" style=\"stroke:white;stroke-width:2\"/><line x1=\"304.3477718286988\" y1=\"57.38682836227768\" x2=\"299.4302099717509\" y2=\"75.73941906176998\" stroke-linecap=\"round\" style=\"stroke:white;stroke-width:2\"/><line x1=\"299.4302099717509\" y1=\"75.73941906176998\" x2=\"312.8652388142953\" y2=\"62.304390219225574\" stroke-linecap=\"round\" style=\"stroke:white;stroke-width:2\"/><line x1=\"312.8652388142953\" y1=\"62.304390219225574\" x2=\"299.4302099717509\" y2=\"75.73941906176998\" stroke-linecap=\"round\" style=\"stroke:white;stroke-width:2\"/><line x1=\"299.4302099717509\" y1=\"75.73941906176998\" x2=\"287.9302099717509\" y2=\"95.65800334881206\" stroke-linecap=\"round\" style=\"stroke:white;stroke-width:2\"/><line x1=\"287.9302099717509\" y1=\"95.65800334881206\" x2=\"280.6832767088803\" y2=\"122.70392648490598\" stroke-linecap=\"round\" style=\"stroke:white;stroke-width:2\"/><line x1=\"280.6832767088803\" y1=\"122.70392648490598\" x2=\"280.6832767088803\" y2=\"156.703926484906\" stroke-linecap=\"round\" style=\"stroke:white;stroke-width:2\"/><line x1=\"280.6832767088803\" y1=\"156.703926484906\" x2=\"291.5536766031862\" y2=\"197.27281118904688\" stroke-linecap=\"round\" style=\"stroke:white;stroke-width:2\"/><line x1=\"291.5536766031862\" y1=\"197.27281118904688\" x2=\"317.5536766031862\" y2=\"242.30613218583767\" stroke-linecap=\"round\" style=\"stroke:white;stroke-width:2\"/><line x1=\"317.5536766031862\" y1=\"242.30613218583767\" x2=\"317.5536766031862\" y2=\"190.30613218583767\" stroke-linecap=\"round\" style=\"stroke:white;stroke-width:3\"/><line x1=\"317.5536766031862\" y1=\"190.30613218583767\" x2=\"306.6832767088803\" y2=\"149.73724748169678\" stroke-linecap=\"round\" style=\"stroke:white;stroke-width:2\"/><line x1=\"306.6832767088803\" y1=\"149.73724748169678\" x2=\"289.6832767088803\" y2=\"120.29238375302589\" stroke-linecap=\"round\" style=\"stroke:white;stroke-width:2\"/><line x1=\"289.6832767088803\" y1=\"120.29238375302589\" x2=\"269.884286835657\" y2=\"100.49339387980257\" stroke-linecap=\"round\" style=\"stroke:white;stroke-width:2\"/><line x1=\"269.884286835657\" y1=\"100.49339387980257\" x2=\"249.96570254861493\" y2=\"88.99339387980257\" stroke-linecap=\"round\" style=\"stroke:white;stroke-width:2\"/><line x1=\"249.96570254861493\" y1=\"88.99339387980257\" x2=\"231.61311184912262\" y2=\"84.07583202285467\" stroke-linecap=\"round\" style=\"stroke:white;stroke-width:2\"/><line x1=\"231.61311184912262\" y1=\"84.07583202285467\" x2=\"249.9657025486149\" y2=\"88.99339387980257\" stroke-linecap=\"round\" style=\"stroke:white;stroke-width:2\"/><line x1=\"249.9657025486149\" y1=\"88.99339387980257\" x2=\"236.5306737060705\" y2=\"75.55836503725817\" stroke-linecap=\"round\" style=\"stroke:white;stroke-width:2\"/><line x1=\"236.5306737060705\" y1=\"75.55836503725817\" x2=\"249.9657025486149\" y2=\"88.99339387980257\" stroke-linecap=\"round\" style=\"stroke:white;stroke-width:2\"/><line x1=\"249.9657025486149\" y1=\"88.99339387980257\" x2=\"269.884286835657\" y2=\"100.49339387980257\" stroke-linecap=\"round\" style=\"stroke:white;stroke-width:2\"/><line x1=\"269.884286835657\" y1=\"100.49339387980257\" x2=\"258.384286835657\" y2=\"80.57480959276049\" stroke-linecap=\"round\" style=\"stroke:white;stroke-width:2\"/><line x1=\"258.384286835657\" y1=\"80.57480959276049\" x2=\"244.9492579931126\" y2=\"67.13978075021609\" stroke-linecap=\"round\" style=\"stroke:white;stroke-width:2\"/><line x1=\"244.9492579931126\" y1=\"67.13978075021609\" x2=\"258.384286835657\" y2=\"80.57480959276049\" stroke-linecap=\"round\" style=\"stroke:white;stroke-width:2\"/><line x1=\"258.384286835657\" y1=\"80.57480959276049\" x2=\"253.46672497870912\" y2=\"62.22221889326819\" stroke-linecap=\"round\" style=\"stroke:white;stroke-width:2\"/><line x1=\"253.46672497870912\" y1=\"62.22221889326819\" x2=\"258.384286835657\" y2=\"80.57480959276049\" stroke-linecap=\"round\" style=\"stroke:white;stroke-width:2\"/><line x1=\"258.384286835657\" y1=\"80.57480959276049\" x2=\"269.884286835657\" y2=\"100.49339387980257\" stroke-linecap=\"round\" style=\"stroke:white;stroke-width:2\"/><line x1=\"269.884286835657\" y1=\"100.49339387980257\" x2=\"289.6832767088803\" y2=\"120.29238375302589\" stroke-linecap=\"round\" style=\"stroke:white;stroke-width:2\"/><line x1=\"289.6832767088803\" y1=\"120.29238375302589\" x2=\"282.43634344600974\" y2=\"93.24646061693198\" stroke-linecap=\"round\" style=\"stroke:white;stroke-width:2\"/><line x1=\"282.43634344600974\" y1=\"93.24646061693198\" x2=\"270.93634344600974\" y2=\"73.3278763298899\" stroke-linecap=\"round\" style=\"stroke:white;stroke-width:2\"/><line x1=\"270.93634344600974\" y1=\"73.3278763298899\" x2=\"257.50131460346535\" y2=\"59.892847487345506\" stroke-linecap=\"round\" style=\"stroke:white;stroke-width:2\"/><line x1=\"257.50131460346535\" y1=\"59.892847487345506\" x2=\"270.93634344600974\" y2=\"73.3278763298899\" stroke-linecap=\"round\" style=\"stroke:white;stroke-width:2\"/><line x1=\"270.93634344600974\" y1=\"73.3278763298899\" x2=\"266.01878158906186\" y2=\"54.97528563039761\" stroke-linecap=\"round\" style=\"stroke:white;stroke-width:2\"/><line x1=\"266.01878158906186\" y1=\"54.97528563039761\" x2=\"270.93634344600974\" y2=\"73.3278763298899\" stroke-linecap=\"round\" style=\"stroke:white;stroke-width:2\"/><line x1=\"270.93634344600974\" y1=\"73.3278763298899\" x2=\"282.43634344600974\" y2=\"93.24646061693198\" stroke-linecap=\"round\" style=\"stroke:white;stroke-width:2\"/><line x1=\"282.43634344600974\" y1=\"93.24646061693198\" x2=\"282.43634344600974\" y2=\"70.24646061693198\" stroke-linecap=\"round\" style=\"stroke:white;stroke-width:2\"/><line x1=\"282.43634344600974\" y1=\"70.24646061693198\" x2=\"277.51878158906186\" y2=\"51.89386991743969\" stroke-linecap=\"round\" style=\"stroke:white;stroke-width:2\"/><line x1=\"277.51878158906186\" y1=\"51.89386991743969\" x2=\"282.43634344600974\" y2=\"70.24646061693198\" stroke-linecap=\"round\" style=\"stroke:white;stroke-width:2\"/><line x1=\"282.43634344600974\" y1=\"70.24646061693198\" x2=\"287.3539053029576\" y2=\"51.89386991743969\" stroke-linecap=\"round\" style=\"stroke:white;stroke-width:2\"/><line x1=\"287.3539053029576\" y1=\"51.89386991743969\" x2=\"282.43634344600974\" y2=\"70.24646061693198\" stroke-linecap=\"round\" style=\"stroke:white;stroke-width:2\"/><line x1=\"282.43634344600974\" y1=\"70.24646061693198\" x2=\"282.43634344600974\" y2=\"93.24646061693198\" stroke-linecap=\"round\" style=\"stroke:white;stroke-width:2\"/><line x1=\"282.43634344600974\" y1=\"93.24646061693198\" x2=\"289.6832767088803\" y2=\"120.29238375302589\" stroke-linecap=\"round\" style=\"stroke:white;stroke-width:2\"/><line x1=\"289.6832767088803\" y1=\"120.29238375302589\" x2=\"306.6832767088803\" y2=\"149.73724748169678\" stroke-linecap=\"round\" style=\"stroke:white;stroke-width:2\"/><line x1=\"306.6832767088803\" y1=\"149.73724748169678\" x2=\"306.6832767088803\" y2=\"115.73724748169678\" stroke-linecap=\"round\" style=\"stroke:white;stroke-width:2\"/><line x1=\"306.6832767088803\" y1=\"115.73724748169678\" x2=\"299.43634344600974\" y2=\"88.69132434560288\" stroke-linecap=\"round\" style=\"stroke:white;stroke-width:2\"/><line x1=\"299.43634344600974\" y1=\"88.69132434560288\" x2=\"287.93634344600974\" y2=\"68.7727400585608\" stroke-linecap=\"round\" style=\"stroke:white;stroke-width:2\"/><line x1=\"287.93634344600974\" y1=\"68.7727400585608\" x2=\"274.50131460346535\" y2=\"55.3377112160164\" stroke-linecap=\"round\" style=\"stroke:white;stroke-width:2\"/><line x1=\"274.50131460346535\" y1=\"55.3377112160164\" x2=\"287.93634344600974\" y2=\"68.7727400585608\" stroke-linecap=\"round\" style=\"stroke:white;stroke-width:2\"/><line x1=\"287.93634344600974\" y1=\"68.7727400585608\" x2=\"283.01878158906186\" y2=\"50.4201493590685\" stroke-linecap=\"round\" style=\"stroke:white;stroke-width:2\"/><line x1=\"283.01878158906186\" y1=\"50.4201493590685\" x2=\"287.93634344600974\" y2=\"68.7727400585608\" stroke-linecap=\"round\" style=\"stroke:white;stroke-width:2\"/><line x1=\"287.93634344600974\" y1=\"68.7727400585608\" x2=\"299.43634344600974\" y2=\"88.69132434560288\" stroke-linecap=\"round\" style=\"stroke:white;stroke-width:2\"/><line x1=\"299.43634344600974\" y1=\"88.69132434560288\" x2=\"299.43634344600974\" y2=\"65.69132434560288\" stroke-linecap=\"round\" style=\"stroke:white;stroke-width:2\"/><line x1=\"299.43634344600974\" y1=\"65.69132434560288\" x2=\"294.51878158906186\" y2=\"47.33873364611058\" stroke-linecap=\"round\" style=\"stroke:white;stroke-width:2\"/><line x1=\"294.51878158906186\" y1=\"47.33873364611058\" x2=\"299.43634344600974\" y2=\"65.69132434560288\" stroke-linecap=\"round\" style=\"stroke:white;stroke-width:2\"/><line x1=\"299.43634344600974\" y1=\"65.69132434560288\" x2=\"304.3539053029576\" y2=\"47.33873364611058\" stroke-linecap=\"round\" style=\"stroke:white;stroke-width:2\"/><line x1=\"304.3539053029576\" y1=\"47.33873364611058\" x2=\"299.43634344600974\" y2=\"65.69132434560288\" stroke-linecap=\"round\" style=\"stroke:white;stroke-width:2\"/><line x1=\"299.43634344600974\" y1=\"65.69132434560288\" x2=\"299.43634344600974\" y2=\"88.69132434560288\" stroke-linecap=\"round\" style=\"stroke:white;stroke-width:2\"/><line x1=\"299.43634344600974\" y1=\"88.69132434560288\" x2=\"306.6832767088803\" y2=\"115.73724748169678\" stroke-linecap=\"round\" style=\"stroke:white;stroke-width:2\"/><line x1=\"306.6832767088803\" y1=\"115.73724748169678\" x2=\"313.9302099717509\" y2=\"88.69132434560287\" stroke-linecap=\"round\" style=\"stroke:white;stroke-width:2\"/><line x1=\"313.9302099717509\" y1=\"88.69132434560287\" x2=\"313.9302099717509\" y2=\"65.69132434560287\" stroke-linecap=\"round\" style=\"stroke:white;stroke-width:2\"/><line x1=\"313.9302099717509\" y1=\"65.69132434560287\" x2=\"309.012648114803\" y2=\"47.33873364611057\" stroke-linecap=\"round\" style=\"stroke:white;stroke-width:2\"/><line x1=\"309.012648114803\" y1=\"47.33873364611057\" x2=\"313.9302099717509\" y2=\"65.69132434560287\" stroke-linecap=\"round\" style=\"stroke:white;stroke-width:2\"/><line x1=\"313.9302099717509\" y1=\"65.69132434560287\" x2=\"318.8477718286988\" y2=\"47.33873364611057\" stroke-linecap=\"round\" style=\"stroke:white;stroke-width:2\"/><line x1=\"318.8477718286988\" y1=\"47.33873364611057\" x2=\"313.9302099717509\" y2=\"65.69132434560287\" stroke-linecap=\"round\" style=\"stroke:white;stroke-width:2\"/><line x1=\"313.9302099717509\" y1=\"65.69132434560287\" x2=\"313.9302099717509\" y2=\"88.69132434560287\" stroke-linecap=\"round\" style=\"stroke:white;stroke-width:2\"/><line x1=\"313.9302099717509\" y1=\"88.69132434560287\" x2=\"325.4302099717509\" y2=\"68.77274005856077\" stroke-linecap=\"round\" style=\"stroke:white;stroke-width:2\"/><line x1=\"325.4302099717509\" y1=\"68.77274005856077\" x2=\"330.3477718286988\" y2=\"50.420149359068475\" stroke-linecap=\"round\" style=\"stroke:white;stroke-width:2\"/><line x1=\"330.3477718286988\" y1=\"50.420149359068475\" x2=\"325.4302099717509\" y2=\"68.77274005856077\" stroke-linecap=\"round\" style=\"stroke:white;stroke-width:2\"/><line x1=\"325.4302099717509\" y1=\"68.77274005856077\" x2=\"338.8652388142953\" y2=\"55.337711216016366\" stroke-linecap=\"round\" style=\"stroke:white;stroke-width:2\"/><line x1=\"338.8652388142953\" y1=\"55.337711216016366\" x2=\"325.4302099717509\" y2=\"68.77274005856077\" stroke-linecap=\"round\" style=\"stroke:white;stroke-width:2\"/><line x1=\"325.4302099717509\" y1=\"68.77274005856077\" x2=\"313.9302099717509\" y2=\"88.69132434560285\" stroke-linecap=\"round\" style=\"stroke:white;stroke-width:2\"/><line x1=\"313.9302099717509\" y1=\"88.69132434560285\" x2=\"306.6832767088803\" y2=\"115.73724748169677\" stroke-linecap=\"round\" style=\"stroke:white;stroke-width:2\"/><line x1=\"306.6832767088803\" y1=\"115.73724748169677\" x2=\"306.6832767088803\" y2=\"149.73724748169678\" stroke-linecap=\"round\" style=\"stroke:white;stroke-width:2\"/><line x1=\"306.6832767088803\" y1=\"149.73724748169678\" x2=\"317.5536766031862\" y2=\"190.30613218583767\" stroke-linecap=\"round\" style=\"stroke:white;stroke-width:2\"/><line x1=\"317.5536766031862\" y1=\"190.30613218583767\" x2=\"328.4240764974921\" y2=\"149.73724748169678\" stroke-linecap=\"round\" style=\"stroke:white;stroke-width:2\"/><line x1=\"328.4240764974921\" y1=\"149.73724748169678\" x2=\"328.4240764974921\" y2=\"115.73724748169678\" stroke-linecap=\"round\" style=\"stroke:white;stroke-width:2\"/><line x1=\"328.4240764974921\" y1=\"115.73724748169678\" x2=\"321.1771432346215\" y2=\"88.69132434560288\" stroke-linecap=\"round\" style=\"stroke:white;stroke-width:2\"/><line x1=\"321.1771432346215\" y1=\"88.69132434560288\" x2=\"309.6771432346215\" y2=\"68.7727400585608\" stroke-linecap=\"round\" style=\"stroke:white;stroke-width:2\"/><line x1=\"309.6771432346215\" y1=\"68.7727400585608\" x2=\"296.2421143920771\" y2=\"55.3377112160164\" stroke-linecap=\"round\" style=\"stroke:white;stroke-width:2\"/><line x1=\"296.2421143920771\" y1=\"55.3377112160164\" x2=\"309.6771432346215\" y2=\"68.7727400585608\" stroke-linecap=\"round\" style=\"stroke:white;stroke-width:2\"/><line x1=\"309.6771432346215\" y1=\"68.7727400585608\" x2=\"304.7595813776736\" y2=\"50.4201493590685\" stroke-linecap=\"round\" style=\"stroke:white;stroke-width:2\"/><line x1=\"304.7595813776736\" y1=\"50.4201493590685\" x2=\"309.6771432346215\" y2=\"68.7727400585608\" stroke-linecap=\"round\" style=\"stroke:white;stroke-width:2\"/><line x1=\"309.6771432346215\" y1=\"68.7727400585608\" x2=\"321.1771432346215\" y2=\"88.69132434560288\" stroke-linecap=\"round\" style=\"stroke:white;stroke-width:2\"/><line x1=\"321.1771432346215\" y1=\"88.69132434560288\" x2=\"321.1771432346215\" y2=\"65.69132434560288\" stroke-linecap=\"round\" style=\"stroke:white;stroke-width:2\"/><line x1=\"321.1771432346215\" y1=\"65.69132434560288\" x2=\"316.2595813776736\" y2=\"47.33873364611058\" stroke-linecap=\"round\" style=\"stroke:white;stroke-width:2\"/><line x1=\"316.2595813776736\" y1=\"47.33873364611058\" x2=\"321.1771432346215\" y2=\"65.69132434560288\" stroke-linecap=\"round\" style=\"stroke:white;stroke-width:2\"/><line x1=\"321.1771432346215\" y1=\"65.69132434560288\" x2=\"326.0947050915694\" y2=\"47.33873364611058\" stroke-linecap=\"round\" style=\"stroke:white;stroke-width:2\"/><line x1=\"326.0947050915694\" y1=\"47.33873364611058\" x2=\"321.1771432346215\" y2=\"65.69132434560288\" stroke-linecap=\"round\" style=\"stroke:white;stroke-width:2\"/><line x1=\"321.1771432346215\" y1=\"65.69132434560288\" x2=\"321.1771432346215\" y2=\"88.69132434560288\" stroke-linecap=\"round\" style=\"stroke:white;stroke-width:2\"/><line x1=\"321.1771432346215\" y1=\"88.69132434560288\" x2=\"328.4240764974921\" y2=\"115.73724748169678\" stroke-linecap=\"round\" style=\"stroke:white;stroke-width:2\"/><line x1=\"328.4240764974921\" y1=\"115.73724748169678\" x2=\"335.67100976036267\" y2=\"88.69132434560287\" stroke-linecap=\"round\" style=\"stroke:white;stroke-width:2\"/><line x1=\"335.67100976036267\" y1=\"88.69132434560287\" x2=\"335.67100976036267\" y2=\"65.69132434560287\" stroke-linecap=\"round\" style=\"stroke:white;stroke-width:2\"/><line x1=\"335.67100976036267\" y1=\"65.69132434560287\" x2=\"330.7534479034148\" y2=\"47.33873364611057\" stroke-linecap=\"round\" style=\"stroke:white;stroke-width:2\"/><line x1=\"330.7534479034148\" y1=\"47.33873364611057\" x2=\"335.67100976036267\" y2=\"65.69132434560287\" stroke-linecap=\"round\" style=\"stroke:white;stroke-width:2\"/><line x1=\"335.67100976036267\" y1=\"65.69132434560287\" x2=\"340.58857161731055\" y2=\"47.33873364611057\" stroke-linecap=\"round\" style=\"stroke:white;stroke-width:2\"/><line x1=\"340.58857161731055\" y1=\"47.33873364611057\" x2=\"335.67100976036267\" y2=\"65.69132434560287\" stroke-linecap=\"round\" style=\"stroke:white;stroke-width:2\"/><line x1=\"335.67100976036267\" y1=\"65.69132434560287\" x2=\"335.67100976036267\" y2=\"88.69132434560287\" stroke-linecap=\"round\" style=\"stroke:white;stroke-width:2\"/><line x1=\"335.67100976036267\" y1=\"88.69132434560287\" x2=\"347.17100976036267\" y2=\"68.77274005856077\" stroke-linecap=\"round\" style=\"stroke:white;stroke-width:2\"/><line x1=\"347.17100976036267\" y1=\"68.77274005856077\" x2=\"352.08857161731055\" y2=\"50.420149359068475\" stroke-linecap=\"round\" style=\"stroke:white;stroke-width:2\"/><line x1=\"352.08857161731055\" y1=\"50.420149359068475\" x2=\"347.17100976036267\" y2=\"68.77274005856077\" stroke-linecap=\"round\" style=\"stroke:white;stroke-width:2\"/><line x1=\"347.17100976036267\" y1=\"68.77274005856077\" x2=\"360.60603860290706\" y2=\"55.337711216016366\" stroke-linecap=\"round\" style=\"stroke:white;stroke-width:2\"/><line x1=\"360.60603860290706\" y1=\"55.337711216016366\" x2=\"347.17100976036267\" y2=\"68.77274005856077\" stroke-linecap=\"round\" style=\"stroke:white;stroke-width:2\"/><line x1=\"347.17100976036267\" y1=\"68.77274005856077\" x2=\"335.67100976036267\" y2=\"88.69132434560285\" stroke-linecap=\"round\" style=\"stroke:white;stroke-width:2\"/><line x1=\"335.67100976036267\" y1=\"88.69132434560285\" x2=\"328.4240764974921\" y2=\"115.73724748169677\" stroke-linecap=\"round\" style=\"stroke:white;stroke-width:2\"/><line x1=\"328.4240764974921\" y1=\"115.73724748169677\" x2=\"328.4240764974921\" y2=\"149.73724748169678\" stroke-linecap=\"round\" style=\"stroke:white;stroke-width:2\"/><line x1=\"328.4240764974921\" y1=\"149.73724748169678\" x2=\"345.4240764974921\" y2=\"120.29238375302587\" stroke-linecap=\"round\" style=\"stroke:white;stroke-width:2\"/><line x1=\"345.4240764974921\" y1=\"120.29238375302587\" x2=\"352.67100976036267\" y2=\"93.24646061693196\" stroke-linecap=\"round\" style=\"stroke:white;stroke-width:2\"/><line x1=\"352.67100976036267\" y1=\"93.24646061693196\" x2=\"352.67100976036267\" y2=\"70.24646061693196\" stroke-linecap=\"round\" style=\"stroke:white;stroke-width:2\"/><line x1=\"352.67100976036267\" y1=\"70.24646061693196\" x2=\"347.7534479034148\" y2=\"51.89386991743966\" stroke-linecap=\"round\" style=\"stroke:white;stroke-width:2\"/><line x1=\"347.7534479034148\" y1=\"51.89386991743966\" x2=\"352.67100976036267\" y2=\"70.24646061693196\" stroke-linecap=\"round\" style=\"stroke:white;stroke-width:2\"/><line x1=\"352.67100976036267\" y1=\"70.24646061693196\" x2=\"357.58857161731055\" y2=\"51.89386991743966\" stroke-linecap=\"round\" style=\"stroke:white;stroke-width:2\"/><line x1=\"357.58857161731055\" y1=\"51.89386991743966\" x2=\"352.67100976036267\" y2=\"70.24646061693196\" stroke-linecap=\"round\" style=\"stroke:white;stroke-width:2\"/><line x1=\"352.67100976036267\" y1=\"70.24646061693196\" x2=\"352.67100976036267\" y2=\"93.24646061693196\" stroke-linecap=\"round\" style=\"stroke:white;stroke-width:2\"/><line x1=\"352.67100976036267\" y1=\"93.24646061693196\" x2=\"364.17100976036267\" y2=\"73.32787632988988\" stroke-linecap=\"round\" style=\"stroke:white;stroke-width:2\"/><line x1=\"364.17100976036267\" y1=\"73.32787632988988\" x2=\"369.08857161731055\" y2=\"54.97528563039758\" stroke-linecap=\"round\" style=\"stroke:white;stroke-width:2\"/><line x1=\"369.08857161731055\" y1=\"54.97528563039758\" x2=\"364.17100976036267\" y2=\"73.32787632988988\" stroke-linecap=\"round\" style=\"stroke:white;stroke-width:2\"/><line x1=\"364.17100976036267\" y1=\"73.32787632988988\" x2=\"377.60603860290706\" y2=\"59.89284748734547\" stroke-linecap=\"round\" style=\"stroke:white;stroke-width:2\"/><line x1=\"377.60603860290706\" y1=\"59.89284748734547\" x2=\"364.17100976036267\" y2=\"73.32787632988988\" stroke-linecap=\"round\" style=\"stroke:white;stroke-width:2\"/><line x1=\"364.17100976036267\" y1=\"73.32787632988988\" x2=\"352.67100976036267\" y2=\"93.24646061693196\" stroke-linecap=\"round\" style=\"stroke:white;stroke-width:2\"/><line x1=\"352.67100976036267\" y1=\"93.24646061693196\" x2=\"345.4240764974921\" y2=\"120.29238375302587\" stroke-linecap=\"round\" style=\"stroke:white;stroke-width:2\"/><line x1=\"345.4240764974921\" y1=\"120.29238375302587\" x2=\"365.2230663707154\" y2=\"100.49339387980254\" stroke-linecap=\"round\" style=\"stroke:white;stroke-width:2\"/><line x1=\"365.2230663707154\" y1=\"100.49339387980254\" x2=\"376.7230663707154\" y2=\"80.57480959276046\" stroke-linecap=\"round\" style=\"stroke:white;stroke-width:2\"/><line x1=\"376.7230663707154\" y1=\"80.57480959276046\" x2=\"381.6406282276633\" y2=\"62.22221889326816\" stroke-linecap=\"round\" style=\"stroke:white;stroke-width:2\"/><line x1=\"381.6406282276633\" y1=\"62.22221889326816\" x2=\"376.7230663707154\" y2=\"80.57480959276046\" stroke-linecap=\"round\" style=\"stroke:white;stroke-width:2\"/><line x1=\"376.7230663707154\" y1=\"80.57480959276046\" x2=\"390.1580952132598\" y2=\"67.13978075021605\" stroke-linecap=\"round\" style=\"stroke:white;stroke-width:2\"/><line x1=\"390.1580952132598\" y1=\"67.13978075021605\" x2=\"376.7230663707154\" y2=\"80.57480959276046\" stroke-linecap=\"round\" style=\"stroke:white;stroke-width:2\"/><line x1=\"376.7230663707154\" y1=\"80.57480959276046\" x2=\"365.2230663707154\" y2=\"100.49339387980254\" stroke-linecap=\"round\" style=\"stroke:white;stroke-width:2\"/><line x1=\"365.2230663707154\" y1=\"100.49339387980254\" x2=\"385.1416506577575\" y2=\"88.99339387980253\" stroke-linecap=\"round\" style=\"stroke:white;stroke-width:2\"/><line x1=\"385.1416506577575\" y1=\"88.99339387980253\" x2=\"398.5766795003019\" y2=\"75.55836503725811\" stroke-linecap=\"round\" style=\"stroke:white;stroke-width:2\"/><line x1=\"398.5766795003019\" y1=\"75.55836503725811\" x2=\"385.1416506577575\" y2=\"88.99339387980253\" stroke-linecap=\"round\" style=\"stroke:white;stroke-width:2\"/>\n",
              "        \n",
              "      <g visibility=visible transform=\"rotate(255,385.1416506577575,88.99339387980253) translate(385.1416506577575, 88.99339387980253)\">\n",
              "        <circle stroke=\"white\" stroke-width=\"3\" fill=\"transparent\" r=\"12\" cx=\"0\" cy=\"0\"/>\n",
              "        <polygon points=\"0,19 3,16 -3,16\" style=\"fill:white;stroke:white;stroke-width:2\"/>\n",
              "      </g>\n",
              "    \n",
              "      </svg>\n",
              "    "
            ],
            "text/plain": [
              "<IPython.core.display.HTML object>"
            ]
          },
          "metadata": {
            "tags": []
          }
        }
      ]
    },
    {
      "cell_type": "code",
      "metadata": {
        "id": "6ffwrUZGorVO",
        "colab_type": "code",
        "outputId": "477a7c8d-12a6-41da-e072-32791e89881c",
        "colab": {
          "base_uri": "https://localhost:8080/",
          "height": 521
        }
      },
      "source": [
        "import ColabTurtle.Turtle as t\n",
        "\n",
        "t.initializeTurtle()\n",
        "\n",
        "t.forward(50)\n",
        "\n",
        "t.left(72)"
      ],
      "execution_count": 0,
      "outputs": [
        {
          "output_type": "display_data",
          "data": {
            "text/html": [
              "\n",
              "      <svg width=\"800\" height=\"500\">\n",
              "        <rect width=\"100%\" height=\"100%\" fill=\"black\"/>\n",
              "        <line x1=\"400\" y1=\"250\" x2=\"400.0\" y2=\"200.0\" stroke-linecap=\"round\" style=\"stroke:white;stroke-width:4\"/>\n",
              "        \n",
              "      <g visibility=visible transform=\"rotate(108,400.0,200.0) translate(400.0, 200.0)\">\n",
              "        <circle stroke=\"white\" stroke-width=\"3\" fill=\"transparent\" r=\"12\" cx=\"0\" cy=\"0\"/>\n",
              "        <polygon points=\"0,19 3,16 -3,16\" style=\"fill:white;stroke:white;stroke-width:2\"/>\n",
              "      </g>\n",
              "    \n",
              "      </svg>\n",
              "    "
            ],
            "text/plain": [
              "<IPython.core.display.HTML object>"
            ]
          },
          "metadata": {
            "tags": []
          }
        }
      ]
    },
    {
      "cell_type": "code",
      "metadata": {
        "id": "bu5Naq8PODPK",
        "colab_type": "code",
        "outputId": "e3f524e3-53a1-4f2d-839f-514a69fb70c5",
        "colab": {
          "resources": {
            "http://localhost:8080/nbextensions/google.colab/files.js": {
              "data": "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",
              "ok": true,
              "headers": [
                [
                  "content-type",
                  "application/javascript"
                ]
              ],
              "status": 200,
              "status_text": ""
            }
          },
          "base_uri": "https://localhost:8080/",
          "height": 74
        }
      },
      "source": [
        "from google.colab import files\n",
        "uploaded = files.upload()"
      ],
      "execution_count": 0,
      "outputs": [
        {
          "output_type": "display_data",
          "data": {
            "text/html": [
              "\n",
              "     <input type=\"file\" id=\"files-8a54a389-787a-4050-80fa-4e392c5d7517\" name=\"files[]\" multiple disabled />\n",
              "     <output id=\"result-8a54a389-787a-4050-80fa-4e392c5d7517\">\n",
              "      Upload widget is only available when the cell has been executed in the\n",
              "      current browser session. Please rerun this cell to enable.\n",
              "      </output>\n",
              "      <script src=\"/nbextensions/google.colab/files.js\"></script> "
            ],
            "text/plain": [
              "<IPython.core.display.HTML object>"
            ]
          },
          "metadata": {
            "tags": []
          }
        },
        {
          "output_type": "stream",
          "text": [
            "Saving newmerge.csv to newmerge.csv\n"
          ],
          "name": "stdout"
        }
      ]
    },
    {
      "cell_type": "code",
      "metadata": {
        "id": "DMhUPn9UOES4",
        "colab_type": "code",
        "colab": {}
      },
      "source": [
        "import pandas as pd\n",
        "test_data = pd.read_csv('newmerge.csv')"
      ],
      "execution_count": 0,
      "outputs": []
    },
    {
      "cell_type": "code",
      "metadata": {
        "id": "Dz4Ns8-XOx48",
        "colab_type": "code",
        "outputId": "8161f927-90c7-40e1-d8f5-36fdcbe05e4c",
        "colab": {
          "base_uri": "https://localhost:8080/",
          "height": 173
        }
      },
      "source": [
        "test_data"
      ],
      "execution_count": 0,
      "outputs": [
        {
          "output_type": "execute_result",
          "data": {
            "text/html": [
              "<div>\n",
              "<style scoped>\n",
              "    .dataframe tbody tr th:only-of-type {\n",
              "        vertical-align: middle;\n",
              "    }\n",
              "\n",
              "    .dataframe tbody tr th {\n",
              "        vertical-align: top;\n",
              "    }\n",
              "\n",
              "    .dataframe thead th {\n",
              "        text-align: right;\n",
              "    }\n",
              "</style>\n",
              "<table border=\"1\" class=\"dataframe\">\n",
              "  <thead>\n",
              "    <tr style=\"text-align: right;\">\n",
              "      <th></th>\n",
              "      <th>Unnamed: 0</th>\n",
              "      <th>Port</th>\n",
              "      <th>Population</th>\n",
              "      <th>Worth</th>\n",
              "      <th>Infantry</th>\n",
              "    </tr>\n",
              "  </thead>\n",
              "  <tbody>\n",
              "    <tr>\n",
              "      <th>0</th>\n",
              "      <td>1</td>\n",
              "      <td>Cartegena</td>\n",
              "      <td>35000</td>\n",
              "      <td>10000</td>\n",
              "      <td>500</td>\n",
              "    </tr>\n",
              "    <tr>\n",
              "      <th>1</th>\n",
              "      <td>2</td>\n",
              "      <td>Havana</td>\n",
              "      <td>140000</td>\n",
              "      <td>50000</td>\n",
              "      <td>2000</td>\n",
              "    </tr>\n",
              "    <tr>\n",
              "      <th>2</th>\n",
              "      <td>3</td>\n",
              "      <td>Panama City</td>\n",
              "      <td>105000</td>\n",
              "      <td>35000</td>\n",
              "      <td>1500</td>\n",
              "    </tr>\n",
              "    <tr>\n",
              "      <th>3</th>\n",
              "      <td>4</td>\n",
              "      <td>Port Bello</td>\n",
              "      <td>49000</td>\n",
              "      <td>15000</td>\n",
              "      <td>700</td>\n",
              "    </tr>\n",
              "  </tbody>\n",
              "</table>\n",
              "</div>"
            ],
            "text/plain": [
              "   Unnamed: 0         Port  Population  Worth  Infantry\n",
              "0           1    Cartegena       35000  10000       500\n",
              "1           2       Havana      140000  50000      2000\n",
              "2           3  Panama City      105000  35000      1500\n",
              "3           4   Port Bello       49000  15000       700"
            ]
          },
          "metadata": {
            "tags": []
          },
          "execution_count": 18
        }
      ]
    },
    {
      "cell_type": "code",
      "metadata": {
        "id": "_kuFCcKoXFZD",
        "colab_type": "code",
        "colab": {}
      },
      "source": [
        ""
      ],
      "execution_count": 0,
      "outputs": []
    },
    {
      "cell_type": "markdown",
      "metadata": {
        "id": "e7PhyUP5XIBa",
        "colab_type": "text"
      },
      "source": [
        "**Creating Decorators**"
      ]
    },
    {
      "cell_type": "code",
      "metadata": {
        "id": "JacV3joHO7WH",
        "colab_type": "code",
        "colab": {}
      },
      "source": [
        "def uppercase_decorator(function):\n",
        "    def wrapper():\n",
        "        func = function()\n",
        "        make_uppercase = func.upper()\n",
        "        return make_uppercase\n",
        "\n",
        "    return wrapper\n"
      ],
      "execution_count": 0,
      "outputs": []
    },
    {
      "cell_type": "code",
      "metadata": {
        "id": "rPdGSSydVQFp",
        "colab_type": "code",
        "outputId": "4a952a43-7d52-4a5b-9c83-bc49275bc089",
        "colab": {
          "base_uri": "https://localhost:8080/",
          "height": 34
        }
      },
      "source": [
        "def say_hi():\n",
        "    return 'hello there'\n",
        "\n",
        "decorate = uppercase_decorator(say_hi)\n",
        "decorate()"
      ],
      "execution_count": 0,
      "outputs": [
        {
          "output_type": "execute_result",
          "data": {
            "text/plain": [
              "'HELLO THERE'"
            ]
          },
          "metadata": {
            "tags": []
          },
          "execution_count": 29
        }
      ]
    },
    {
      "cell_type": "code",
      "metadata": {
        "id": "3UA2uW-GV2JK",
        "colab_type": "code",
        "outputId": "3d799e19-7520-47af-cc1c-1c17cd1beedf",
        "colab": {
          "base_uri": "https://localhost:8080/",
          "height": 34
        }
      },
      "source": [
        "@uppercase_decorator\n",
        "def say_hi():\n",
        "    return 'hello there'\n",
        "\n",
        "say_hi()"
      ],
      "execution_count": 0,
      "outputs": [
        {
          "output_type": "execute_result",
          "data": {
            "text/plain": [
              "'HELLO THERE'"
            ]
          },
          "metadata": {
            "tags": []
          },
          "execution_count": 23
        }
      ]
    },
    {
      "cell_type": "markdown",
      "metadata": {
        "id": "88L15QTcXjBe",
        "colab_type": "text"
      },
      "source": [
        "**function can also generate another function**"
      ]
    },
    {
      "cell_type": "code",
      "metadata": {
        "id": "Lya41lseWII8",
        "colab_type": "code",
        "outputId": "cecfb076-3bad-4821-942c-afb4b172e1db",
        "colab": {
          "base_uri": "https://localhost:8080/",
          "height": 34
        }
      },
      "source": [
        "def hello_function():\n",
        "    def say_hi():\n",
        "        return \"Hi\"\n",
        "    return say_hi\n",
        "hello = hello_function()\n",
        "hello()"
      ],
      "execution_count": 0,
      "outputs": [
        {
          "output_type": "execute_result",
          "data": {
            "text/plain": [
              "'Hi'"
            ]
          },
          "metadata": {
            "tags": []
          },
          "execution_count": 26
        }
      ]
    },
    {
      "cell_type": "markdown",
      "metadata": {
        "id": "eb_fVZcHXs3J",
        "colab_type": "text"
      },
      "source": [
        "\n",
        "**Functions can also be passed as parameters to other functions**\n"
      ]
    },
    {
      "cell_type": "code",
      "metadata": {
        "id": "MZd9AY0fW_0o",
        "colab_type": "code",
        "outputId": "99fbb049-4b49-43d3-f886-6bfc0a2996a5",
        "colab": {
          "base_uri": "https://localhost:8080/",
          "height": 34
        }
      },
      "source": [
        "def plus_one(number):\n",
        "    return number + 1\n",
        "\n",
        "def function_call(function):\n",
        "    number_to_add = 5\n",
        "    return function(number_to_add)\n",
        "\n",
        "function_call(plus_one)"
      ],
      "execution_count": 0,
      "outputs": [
        {
          "output_type": "execute_result",
          "data": {
            "text/plain": [
              "6"
            ]
          },
          "metadata": {
            "tags": []
          },
          "execution_count": 27
        }
      ]
    },
    {
      "cell_type": "code",
      "metadata": {
        "id": "o4UiqhZrX9R1",
        "colab_type": "code",
        "colab": {}
      },
      "source": [
        ""
      ],
      "execution_count": 0,
      "outputs": []
    }
  ]
}