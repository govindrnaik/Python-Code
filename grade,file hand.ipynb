{
 "cells": [
  {
   "cell_type": "code",
   "execution_count": null,
   "metadata": {},
   "outputs": [],
   "source": []
  },
  {
   "cell_type": "code",
   "execution_count": 20,
   "metadata": {},
   "outputs": [
    {
     "name": "stdout",
     "output_type": "stream",
     "text": [
      "Enter your percentage : 26\n",
      "\n",
      " @@@@@@@@@\n",
      "@  Your Grade Is   @\n",
      "@           D             @\n",
      "@@@@@@@@@\n"
     ]
    }
   ],
   "source": [
    "Number = int(input(\"Enter your percentage : \"))\n",
    "\n",
    "if  100 > Number > 0 :\n",
    "    print(\"\\n @@@@@@@@@\")\n",
    "    print(\"@  Your Grade Is   @\")\n",
    "    if  Number >= 80  :\n",
    "        print(\"@          A             @\")\n",
    "    elif Number >= 60  :\n",
    "        print(\"@           B             @\")\n",
    "    elif Number >= 40  :\n",
    "        print(\"@           C             @\")\n",
    "    elif Number >= 20  :\n",
    "        print(\"@           D             @\")\n",
    "    else:\n",
    "        print(\"@          FAIL         @\")\n",
    "    print(\"@@@@@@@@@\")\n",
    "else:\n",
    "    print(\"Enter Valid Percentage\")       \n",
    "\n"
   ]
  },
  {
   "cell_type": "code",
   "execution_count": 25,
   "metadata": {},
   "outputs": [
    {
     "name": "stdout",
     "output_type": "stream",
     "text": [
      "Predict The Score of  The Match :26\n",
      "\n",
      "__________________________________\n",
      "\n",
      "         You Don't Watch That Much !\n",
      "                      Score is :  122 \n",
      "__________________________________\n"
     ]
    }
   ],
   "source": [
    "# generate random number\n",
    "import random\n",
    "\n",
    "score =  random.randint(1,250)\n",
    "predict = int(input(\"Predict The Score of  The Match :\")) \n",
    "print(\"\\n__________________________________\\n\")\n",
    "\n",
    "\n",
    "if 1 < predict < 250 :\n",
    "    if ((score -10) < predict < (score + 10)) :\n",
    "        print(\"Close By, you are True Indian Fan !\")\n",
    "        \n",
    "    else : \n",
    "                print(\"         You Don't Watch That Much !\")\n",
    "else :\n",
    "        print(\"Reduce Your Expectation for 20-20 Cricket \")\n",
    "        \n",
    "print(\"                      Score is : \",score,\"\\n__________________________________\")"
   ]
  },
  {
   "cell_type": "markdown",
   "metadata": {},
   "source": [
    "# WAP to Handle File using Python Script.\n",
    "1. Opening a File\n",
    "2. Writing - I love FCS\n",
    "3. Close the file\n",
    "4. Open the file again\n",
    "5. Show the content on screen"
   ]
  },
  {
   "cell_type": "code",
   "execution_count": 26,
   "metadata": {},
   "outputs": [],
   "source": [
    "# Opening a File\n",
    "file = open(\"govind.txt\",'w')\n",
    "\n",
    "# Writing - I love FCS\n",
    "file.write(\"(___@@____I Love FCS____@@____) \")\n",
    "\n",
    "# Close the file\n",
    "file.close()"
   ]
  },
  {
   "cell_type": "code",
   "execution_count": 27,
   "metadata": {},
   "outputs": [
    {
     "name": "stdout",
     "output_type": "stream",
     "text": [
      "(___@@____I Love FCS____@@____) \n"
     ]
    }
   ],
   "source": [
    "# Open the file again\n",
    "file = open(\"govind.txt\",\"r\")\n",
    "content = file.read()\n",
    "\n",
    "# Show the content on screen\n",
    "print(content)\n",
    "file.close()"
   ]
  },
  {
   "cell_type": "code",
   "execution_count": null,
   "metadata": {},
   "outputs": [],
   "source": []
  },
  {
   "cell_type": "code",
   "execution_count": null,
   "metadata": {},
   "outputs": [],
   "source": []
  }
 ],
 "metadata": {
  "kernelspec": {
   "display_name": "Python 3",
   "language": "python",
   "name": "python3"
  },
  "language_info": {
   "codemirror_mode": {
    "name": "ipython",
    "version": 3
   },
   "file_extension": ".py",
   "mimetype": "text/x-python",
   "name": "python",
   "nbconvert_exporter": "python",
   "pygments_lexer": "ipython3",
   "version": "3.6.5"
  }
 },
 "nbformat": 4,
 "nbformat_minor": 2
}
