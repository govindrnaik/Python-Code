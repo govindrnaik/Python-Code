{
 "cells": [
  {
   "cell_type": "markdown",
   "metadata": {},
   "source": [
    "# Error Handling and Exceptions "
   ]
  },
  {
   "cell_type": "code",
   "execution_count": 1,
   "metadata": {},
   "outputs": [
    {
     "ename": "ZeroDivisionError",
     "evalue": "division by zero",
     "output_type": "error",
     "traceback": [
      "\u001b[1;31m---------------------------------------------------------------------------\u001b[0m",
      "\u001b[1;31mZeroDivisionError\u001b[0m                         Traceback (most recent call last)",
      "\u001b[1;32m<ipython-input-1-0106664d39e8>\u001b[0m in \u001b[0;36m<module>\u001b[1;34m()\u001b[0m\n\u001b[1;32m----> 1\u001b[1;33m \u001b[1;36m5\u001b[0m\u001b[1;33m/\u001b[0m\u001b[1;36m0\u001b[0m\u001b[1;33m\u001b[0m\u001b[0m\n\u001b[0m",
      "\u001b[1;31mZeroDivisionError\u001b[0m: division by zero"
     ]
    }
   ],
   "source": [
    "5/0"
   ]
  },
  {
   "cell_type": "code",
   "execution_count": 2,
   "metadata": {},
   "outputs": [
    {
     "name": "stdout",
     "output_type": "stream",
     "text": [
      "It is properly running\n",
      "It is a code which will run no matter what\n"
     ]
    }
   ],
   "source": [
    "try:\n",
    "    5/1\n",
    "    print(\"It is properly running\")\n",
    "except:\n",
    "    print(\"It was an error thats where we are in Except block\")\n",
    "finally:\n",
    "    print(\"It is a code which will run no matter what\")\n"
   ]
  },
  {
   "cell_type": "code",
   "execution_count": 4,
   "metadata": {},
   "outputs": [
    {
     "name": "stdout",
     "output_type": "stream",
     "text": [
      "Database not found or its down try loging into Insta after some time\n",
      "division by zero\n",
      "Close the connection, from the DB\n"
     ]
    }
   ],
   "source": [
    "try:\n",
    "    5/0\n",
    "    print(\"Get the user from the database\")\n",
    "    print(\"Database found\")\n",
    "except Exception as e:\n",
    "    print(\"Database not found or its down try loging into Insta after some time\")\n",
    "    print(e)\n",
    "finally:\n",
    "    print(\"Close the connection, from the DB\")"
   ]
  },
  {
   "cell_type": "code",
   "execution_count": 5,
   "metadata": {},
   "outputs": [
    {
     "name": "stdout",
     "output_type": "stream",
     "text": [
      "The file gave us error -  [Errno 2] No such file or directory: 'FCS.txt'\n"
     ]
    },
    {
     "ename": "NameError",
     "evalue": "name 'file' is not defined",
     "output_type": "error",
     "traceback": [
      "\u001b[1;31m---------------------------------------------------------------------------\u001b[0m",
      "\u001b[1;31mFileNotFoundError\u001b[0m                         Traceback (most recent call last)",
      "\u001b[1;32m<ipython-input-5-6083c4abf89a>\u001b[0m in \u001b[0;36m<module>\u001b[1;34m()\u001b[0m\n\u001b[0;32m      1\u001b[0m \u001b[1;32mtry\u001b[0m\u001b[1;33m:\u001b[0m\u001b[1;33m\u001b[0m\u001b[0m\n\u001b[1;32m----> 2\u001b[1;33m     \u001b[0mfile\u001b[0m \u001b[1;33m=\u001b[0m \u001b[0mopen\u001b[0m\u001b[1;33m(\u001b[0m\u001b[1;34m\"FCS.txt\"\u001b[0m\u001b[1;33m,\u001b[0m\u001b[1;34m'r'\u001b[0m\u001b[1;33m)\u001b[0m\u001b[1;33m\u001b[0m\u001b[0m\n\u001b[0m\u001b[0;32m      3\u001b[0m     \u001b[0mfile\u001b[0m\u001b[1;33m.\u001b[0m\u001b[0mwrite\u001b[0m\u001b[1;33m(\u001b[0m\u001b[1;34m\"ABC\"\u001b[0m\u001b[1;33m)\u001b[0m\u001b[1;33m\u001b[0m\u001b[0m\n",
      "\u001b[1;31mFileNotFoundError\u001b[0m: [Errno 2] No such file or directory: 'FCS.txt'",
      "\nDuring handling of the above exception, another exception occurred:\n",
      "\u001b[1;31mFileNotFoundError\u001b[0m                         Traceback (most recent call last)",
      "\u001b[1;32m<ipython-input-5-6083c4abf89a>\u001b[0m in \u001b[0;36m<module>\u001b[1;34m()\u001b[0m\n\u001b[0;32m      5\u001b[0m     \u001b[0mprint\u001b[0m\u001b[1;33m(\u001b[0m\u001b[1;34m\"The file gave us error - \"\u001b[0m\u001b[1;33m,\u001b[0m \u001b[0me\u001b[0m\u001b[1;33m)\u001b[0m\u001b[1;33m\u001b[0m\u001b[0m\n\u001b[1;32m----> 6\u001b[1;33m     \u001b[0mfile\u001b[0m \u001b[1;33m=\u001b[0m \u001b[0mopen\u001b[0m\u001b[1;33m(\u001b[0m\u001b[1;34m\"FCS.txt\"\u001b[0m\u001b[1;33m,\u001b[0m\u001b[1;34m'r'\u001b[0m\u001b[1;33m)\u001b[0m\u001b[1;33m\u001b[0m\u001b[0m\n\u001b[0m\u001b[0;32m      7\u001b[0m     \u001b[0mprint\u001b[0m\u001b[1;33m(\u001b[0m\u001b[0mfile\u001b[0m\u001b[1;33m.\u001b[0m\u001b[0mread\u001b[0m\u001b[1;33m(\u001b[0m\u001b[1;33m)\u001b[0m\u001b[1;33m)\u001b[0m\u001b[1;33m\u001b[0m\u001b[0m\n",
      "\u001b[1;31mFileNotFoundError\u001b[0m: [Errno 2] No such file or directory: 'FCS.txt'",
      "\nDuring handling of the above exception, another exception occurred:\n",
      "\u001b[1;31mNameError\u001b[0m                                 Traceback (most recent call last)",
      "\u001b[1;32m<ipython-input-5-6083c4abf89a>\u001b[0m in \u001b[0;36m<module>\u001b[1;34m()\u001b[0m\n\u001b[0;32m      7\u001b[0m     \u001b[0mprint\u001b[0m\u001b[1;33m(\u001b[0m\u001b[0mfile\u001b[0m\u001b[1;33m.\u001b[0m\u001b[0mread\u001b[0m\u001b[1;33m(\u001b[0m\u001b[1;33m)\u001b[0m\u001b[1;33m)\u001b[0m\u001b[1;33m\u001b[0m\u001b[0m\n\u001b[0;32m      8\u001b[0m \u001b[1;32mfinally\u001b[0m\u001b[1;33m:\u001b[0m\u001b[1;33m\u001b[0m\u001b[0m\n\u001b[1;32m----> 9\u001b[1;33m     \u001b[0mfile\u001b[0m\u001b[1;33m.\u001b[0m\u001b[0mclose\u001b[0m\u001b[1;33m(\u001b[0m\u001b[1;33m)\u001b[0m\u001b[1;33m\u001b[0m\u001b[0m\n\u001b[0m",
      "\u001b[1;31mNameError\u001b[0m: name 'file' is not defined"
     ]
    }
   ],
   "source": [
    "try:\n",
    "    file = open(\"FCS.txt\",'r')\n",
    "    file.write(\"ABC\")\n",
    "except Exception as e:\n",
    "    print(\"The file gave us error - \", e)\n",
    "    file = open(\"FCS.txt\",'r')\n",
    "    print(file.read())\n",
    "finally:\n",
    "    file.close()"
   ]
  },
  {
   "cell_type": "code",
   "execution_count": 6,
   "metadata": {},
   "outputs": [],
   "source": [
    "# We dont have any option of our program closing down at any point \n",
    "\n",
    "# But i am little bit worried about the line of code and think that\n",
    "# this may or may not give error \n",
    "\n",
    "# then what to do ?\n",
    "\n",
    "# we use Try, Except and Finally "
   ]
  },
  {
   "cell_type": "code",
   "execution_count": 7,
   "metadata": {},
   "outputs": [],
   "source": [
    "#Try except and finally blocks gives us \n",
    "# as layer to try differnt code, \n",
    "\n",
    "# if at all ur try block code explodes or breaks \n",
    "\n",
    "# you go and handle that in the Except block with a error message to user, \n",
    "#not to complier\n",
    "\n",
    "# Finally block is somehting which makes sure ur \n",
    "# code is closing or ending properly\n",
    "\n"
   ]
  },
  {
   "cell_type": "markdown",
   "metadata": {},
   "source": [
    "# Unit Testing \n"
   ]
  },
  {
   "cell_type": "code",
   "execution_count": 8,
   "metadata": {},
   "outputs": [],
   "source": [
    "# You make a large programs, \n",
    "\n",
    "# you want progarm to work properly, with atmost performance \n",
    "\n",
    "# you wANT THEm to work as designed nothing else \n",
    "\n",
    "\n",
    "# how to go about it ?"
   ]
  },
  {
   "cell_type": "code",
   "execution_count": 9,
   "metadata": {},
   "outputs": [],
   "source": [
    "# Pylint \n",
    "\n",
    "# Unittest "
   ]
  },
  {
   "cell_type": "code",
   "execution_count": null,
   "metadata": {},
   "outputs": [],
   "source": []
  },
  {
   "cell_type": "code",
   "execution_count": 10,
   "metadata": {},
   "outputs": [
    {
     "name": "stdout",
     "output_type": "stream",
     "text": [
      "Requirement already satisfied: pylint in c:\\users\\user\\anaconda3\\lib\\site-packages (1.8.4)\n",
      "Requirement already satisfied: astroid<2.0,>=1.6 in c:\\users\\user\\anaconda3\\lib\\site-packages (from pylint) (1.6.3)\n",
      "Requirement already satisfied: six in c:\\users\\user\\anaconda3\\lib\\site-packages (from pylint) (1.11.0)\n",
      "Requirement already satisfied: isort>=4.2.5 in c:\\users\\user\\anaconda3\\lib\\site-packages (from pylint) (4.3.4)\n",
      "Requirement already satisfied: mccabe in c:\\users\\user\\anaconda3\\lib\\site-packages (from pylint) (0.6.1)\n",
      "Requirement already satisfied: colorama in c:\\users\\user\\anaconda3\\lib\\site-packages (from pylint) (0.3.9)\n",
      "Requirement already satisfied: lazy_object_proxy in c:\\users\\user\\anaconda3\\lib\\site-packages (from astroid<2.0,>=1.6->pylint) (1.3.1)\n",
      "Requirement already satisfied: wrapt in c:\\users\\user\\anaconda3\\lib\\site-packages (from astroid<2.0,>=1.6->pylint) (1.10.11)\n"
     ]
    }
   ],
   "source": [
    "!pip install pylint"
   ]
  },
  {
   "cell_type": "code",
   "execution_count": 11,
   "metadata": {},
   "outputs": [
    {
     "name": "stdout",
     "output_type": "stream",
     "text": [
      "Writing ourPyLitExampleFile.py\n"
     ]
    }
   ],
   "source": [
    "%%writefile ourPyLitExampleFile.py\n",
    "a = 1\n",
    "b = 2\n",
    "if a == b:\n",
    "    print(\"Both are equal\")\n",
    "else:\n",
    "    print(\"Both are UnEqual\")"
   ]
  },
  {
   "cell_type": "code",
   "execution_count": 12,
   "metadata": {},
   "outputs": [
    {
     "name": "stdout",
     "output_type": "stream",
     "text": [
      "************* Module ourPyLitExampleFile\n",
      "C:  6, 0: Final newline missing (missing-final-newline)\n",
      "C:  1, 0: Module name \"ourPyLitExampleFile\" doesn't conform to snake_case naming style (invalid-name)\n",
      "C:  1, 0: Missing module docstring (missing-docstring)\n",
      "C:  1, 0: Constant name \"a\" doesn't conform to UPPER_CASE naming style (invalid-name)\n",
      "C:  2, 0: Constant name \"b\" doesn't conform to UPPER_CASE naming style (invalid-name)\n",
      "\n",
      "------------------------------------------------------------------\n",
      "\n",
      "Your code has been rated at 0.00/10 (previous run: 0.00/10, +0.00)\n",
      "\n",
      "\n",
      "\n"
     ]
    },
    {
     "name": "stderr",
     "output_type": "stream",
     "text": [
      "No config file found, using default configuration\n"
     ]
    }
   ],
   "source": [
    "! pylint ourPyLitExampleFile.py"
   ]
  },
  {
   "cell_type": "code",
   "execution_count": 13,
   "metadata": {},
   "outputs": [
    {
     "name": "stdout",
     "output_type": "stream",
     "text": [
      "Writing our_file.py\n"
     ]
    }
   ],
   "source": [
    "%%writefile our_file.py\n",
    "'''\n",
    "A Sample Program for testing PyLint\n",
    "'''\n",
    "A = 1\n",
    "B = 2\n",
    "if A == B:\n",
    "    print(\"Both are equal\")\n",
    "else:\n",
    "    print(\"Both are UnEqual\")"
   ]
  },
  {
   "cell_type": "code",
   "execution_count": 14,
   "metadata": {},
   "outputs": [
    {
     "name": "stdout",
     "output_type": "stream",
     "text": [
      "************* Module our_file\n",
      "C:  9, 0: Final newline missing (missing-final-newline)\n",
      "\n",
      "------------------------------------------------------------------\n",
      "\n",
      "Your code has been rated at 8.00/10 (previous run: 8.00/10, +0.00)\n",
      "\n",
      "\n",
      "\n"
     ]
    },
    {
     "name": "stderr",
     "output_type": "stream",
     "text": [
      "No config file found, using default configuration\n"
     ]
    }
   ],
   "source": [
    "! pylint our_file.py"
   ]
  },
  {
   "cell_type": "markdown",
   "metadata": {},
   "source": [
    "# Unittest Library "
   ]
  },
  {
   "cell_type": "code",
   "execution_count": 15,
   "metadata": {},
   "outputs": [],
   "source": [
    "#u want to add multiple numbers\n",
    "\n",
    "#if you are sending 2 numbers it should add them both, \n",
    "\n",
    "#if u are sending multiple numbers its should run a for loop and get he answer\n",
    "\n"
   ]
  },
  {
   "cell_type": "code",
   "execution_count": 16,
   "metadata": {},
   "outputs": [],
   "source": [
    "def addNumbers(*args):\n",
    "    '''\n",
    "    1. send two int parameter as for there addition \n",
    "    2. Senf a list only with ints to add them all \n",
    "    '''\n",
    "    if len(args) == 2:\n",
    "        return args[0] + args[1]\n",
    "    elif len(args)>2:\n",
    "        return \"Refer Doc String\"\n",
    "    else:\n",
    "        addNum = 0 \n",
    "        for item in args[0]:\n",
    "            addNum = addNum + item\n",
    "        return addNum\n"
   ]
  },
  {
   "cell_type": "code",
   "execution_count": null,
   "metadata": {},
   "outputs": [],
   "source": []
  },
  {
   "cell_type": "code",
   "execution_count": 17,
   "metadata": {},
   "outputs": [
    {
     "data": {
      "text/plain": [
       "3"
      ]
     },
     "execution_count": 17,
     "metadata": {},
     "output_type": "execute_result"
    }
   ],
   "source": [
    "addNumbers(1,2)"
   ]
  },
  {
   "cell_type": "code",
   "execution_count": 18,
   "metadata": {},
   "outputs": [
    {
     "data": {
      "text/plain": [
       "11850"
      ]
     },
     "execution_count": 18,
     "metadata": {},
     "output_type": "execute_result"
    }
   ],
   "source": [
    "addNumbers([1000,4545,23,6112,24,63,4,32,23,24])"
   ]
  },
  {
   "cell_type": "code",
   "execution_count": 19,
   "metadata": {},
   "outputs": [
    {
     "data": {
      "text/plain": [
       "'Refer Doc String'"
      ]
     },
     "execution_count": 19,
     "metadata": {},
     "output_type": "execute_result"
    }
   ],
   "source": [
    "addNumbers(1,2,3)"
   ]
  },
  {
   "cell_type": "code",
   "execution_count": 20,
   "metadata": {},
   "outputs": [
    {
     "name": "stdout",
     "output_type": "stream",
     "text": [
      "Writing adding_Multiplenumbers.py\n"
     ]
    }
   ],
   "source": [
    "%%writefile adding_Multiplenumbers.py\n",
    "def addNumbers(*args):\n",
    "    '''\n",
    "    1. send two int parameter as for there addition\n",
    "    2. Senf a list only with ints to add them all\n",
    "    '''\n",
    "    if len(args) == 2:\n",
    "        return args[0] + args[1]\n",
    "    elif len(args) > 2:\n",
    "        return \"Refer to doc string\"\n",
    "    else:\n",
    "        addNum = 0\n",
    "        for item in args[0]:\n",
    "            addNum = addNum + item\n",
    "        return addNum"
   ]
  },
  {
   "cell_type": "code",
   "execution_count": 21,
   "metadata": {},
   "outputs": [
    {
     "name": "stdout",
     "output_type": "stream",
     "text": [
      "************* Module adding_Multiplenumbers\n",
      "C: 14, 0: Final newline missing (missing-final-newline)\n",
      "C:  1, 0: Module name \"adding_Multiplenumbers\" doesn't conform to snake_case naming style (invalid-name)\n",
      "C:  1, 0: Missing module docstring (missing-docstring)\n",
      "C:  1, 0: Function name \"addNumbers\" doesn't conform to snake_case naming style (invalid-name)\n",
      "R:  6, 4: Unnecessary \"else\" after \"return\" (no-else-return)\n",
      "C: 11, 8: Variable name \"addNum\" doesn't conform to snake_case naming style (invalid-name)\n",
      "C: 13,12: Variable name \"addNum\" doesn't conform to snake_case naming style (invalid-name)\n",
      "\n",
      "------------------------------------------------------------------\n",
      "\n",
      "Your code has been rated at 2.22/10 (previous run: 2.22/10, +0.00)\n",
      "\n",
      "\n",
      "\n"
     ]
    },
    {
     "name": "stderr",
     "output_type": "stream",
     "text": [
      "No config file found, using default configuration\n"
     ]
    }
   ],
   "source": [
    "! pylint adding_Multiplenumbers.py"
   ]
  },
  {
   "cell_type": "code",
   "execution_count": 22,
   "metadata": {},
   "outputs": [
    {
     "name": "stdout",
     "output_type": "stream",
     "text": [
      "Writing unittestof_Twonumbers.py\n"
     ]
    }
   ],
   "source": [
    "%%writefile unittestof_Twonumbers.py\n",
    "import unittest\n",
    "import adding_Multiplenumbers\n",
    "\n",
    "class TestAddition(unittest.TestCase):\n",
    "    \n",
    "    def test_two_numbers(self):\n",
    "        A = 1\n",
    "        B = 2\n",
    "        result = adding_Multiplenumbers.addNumbers(A,B)\n",
    "        self.assertEqual(result,3)\n",
    "        \n",
    "    def test_multiple_numbers(self):\n",
    "        list_of_Numbers = list(range(1,200))\n",
    "        result = adding_Multiplenumbers.addNumbers(list_of_Numbers)\n",
    "        self.assertEqual(result,19900)\n",
    "    \n",
    "    def test_three_args(self):\n",
    "        A= 1\n",
    "        B= 2\n",
    "        C= 3\n",
    "        result = adding_Multiplenumbers.addNumbers(A,B,C)\n",
    "        self.assertEqual(result,\"Refer to doc string\")\n",
    "        \n",
    "    \n",
    "if __name__ == '__main__':\n",
    "    unittest.main()"
   ]
  },
  {
   "cell_type": "code",
   "execution_count": 23,
   "metadata": {},
   "outputs": [
    {
     "name": "stderr",
     "output_type": "stream",
     "text": [
      "...\n",
      "----------------------------------------------------------------------\n",
      "Ran 3 tests in 0.000s\n",
      "\n",
      "OK\n"
     ]
    }
   ],
   "source": [
    "! python unittestof_Twonumbers.py"
   ]
  },
  {
   "cell_type": "code",
   "execution_count": 24,
   "metadata": {},
   "outputs": [],
   "source": [
    "#if __name__ == '__main__':\n",
    "#    unittest.main()"
   ]
  },
  {
   "cell_type": "code",
   "execution_count": null,
   "metadata": {},
   "outputs": [],
   "source": []
  },
  {
   "cell_type": "code",
   "execution_count": null,
   "metadata": {},
   "outputs": [],
   "source": []
  },
  {
   "cell_type": "code",
   "execution_count": null,
   "metadata": {},
   "outputs": [],
   "source": []
  }
 ],
 "metadata": {
  "kernelspec": {
   "display_name": "Python 3",
   "language": "python",
   "name": "python3"
  },
  "language_info": {
   "codemirror_mode": {
    "name": "ipython",
    "version": 3
   },
   "file_extension": ".py",
   "mimetype": "text/x-python",
   "name": "python",
   "nbconvert_exporter": "python",
   "pygments_lexer": "ipython3",
   "version": "3.6.5"
  }
 },
 "nbformat": 4,
 "nbformat_minor": 2
}
