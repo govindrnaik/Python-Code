{
 "cells": [
  {
   "cell_type": "markdown",
   "metadata": {},
   "source": [
    "# For this challenge, create a Cone class that has two attributes:\n",
    "* R = Radius\n",
    "* h = height\n",
    "and two methods:\n",
    "* Volume - π × r² × (h/3)\n",
    "* Surface area: base: π × r², side: π × r × √(r²+h²)\n",
    "Make only one class with functions, as in where required Import Math"
   ]
  },
  {
   "cell_type": "code",
   "execution_count": 25,
   "metadata": {},
   "outputs": [],
   "source": [
    "import math\n",
    "class Cone():\n",
    "    def __init__(self, radius , height) :\n",
    "        self.r = radius\n",
    "        self.h = height\n",
    "        \n",
    "    def volume(self) :\n",
    "        return math.pi * self.r * self.r * self.h/3 \n",
    "    \n",
    "    def Abase(self) : \n",
    "        return math.pi*self.r*self.r\n",
    "    \n",
    "    def Aside(self) : \n",
    "        return math.pi*self.r*math.sqrt((self.r*self.r)+(self.h*self.h)) \n",
    "    \n",
    "    def show(self) : \n",
    "        print(\"Radius of Cone is : \",self.r)\n",
    "        print(\"Height of Cone is : \",self.h)\n",
    "    "
   ]
  },
  {
   "cell_type": "code",
   "execution_count": 26,
   "metadata": {},
   "outputs": [],
   "source": [
    "b = Cone(5,10)"
   ]
  },
  {
   "cell_type": "code",
   "execution_count": 27,
   "metadata": {},
   "outputs": [
    {
     "data": {
      "text/plain": [
       "261.79938779914943"
      ]
     },
     "execution_count": 27,
     "metadata": {},
     "output_type": "execute_result"
    }
   ],
   "source": [
    "b.volume()"
   ]
  },
  {
   "cell_type": "code",
   "execution_count": 28,
   "metadata": {},
   "outputs": [
    {
     "data": {
      "text/plain": [
       "175.62036827601816"
      ]
     },
     "execution_count": 28,
     "metadata": {},
     "output_type": "execute_result"
    }
   ],
   "source": [
    "b.Aside()"
   ]
  },
  {
   "cell_type": "code",
   "execution_count": 29,
   "metadata": {},
   "outputs": [
    {
     "data": {
      "text/plain": [
       "78.53981633974483"
      ]
     },
     "execution_count": 29,
     "metadata": {},
     "output_type": "execute_result"
    }
   ],
   "source": [
    "b.Abase()"
   ]
  },
  {
   "cell_type": "code",
   "execution_count": 30,
   "metadata": {},
   "outputs": [
    {
     "name": "stdout",
     "output_type": "stream",
     "text": [
      "Radius of Cone is :  5\n",
      "Height of Cone is :  10\n"
     ]
    }
   ],
   "source": [
    "b.show()"
   ]
  },
  {
   "cell_type": "code",
   "execution_count": null,
   "metadata": {},
   "outputs": [],
   "source": []
  },
  {
   "cell_type": "code",
   "execution_count": 33,
   "metadata": {},
   "outputs": [
    {
     "data": {
      "text/plain": [
       "254.160184615763"
      ]
     },
     "execution_count": 33,
     "metadata": {},
     "output_type": "execute_result"
    }
   ],
   "source": [
    "import math\n",
    "class Cone():\n",
    "    def __init__(self, radius , height) :\n",
    "        self.r = radius\n",
    "        self.h = height\n",
    "        \n",
    "    def volume(self) :\n",
    "        return math.pi * self.r * self.r * self.h/3 \n",
    "    \n",
    "    def surfaceArea(self) : \n",
    "        return math.pi*self.r*(self.r+math.sqrt((self.r*self.r)+(self.h*self.h))) \n",
    "    \n",
    "    def show(self) : \n",
    "        print(\"Radius of Cone is : \",self.r)\n",
    "        print(\"Height of Cone is : \",self.h)\n",
    "b = Cone(5,10)\n",
    "b.surfaceArea()"
   ]
  },
  {
   "cell_type": "code",
   "execution_count": null,
   "metadata": {},
   "outputs": [],
   "source": []
  },
  {
   "cell_type": "code",
   "execution_count": 2,
   "metadata": {},
   "outputs": [
    {
     "data": {
      "text/plain": [
       "125"
      ]
     },
     "execution_count": 2,
     "metadata": {},
     "output_type": "execute_result"
    }
   ],
   "source": [
    "class CUBOID():\n",
    "    def __init__(self, length, breadth , height) :\n",
    "        self.l = length\n",
    "        self.b = breadth\n",
    "        self.h = height\n",
    "        \n",
    "    def volume_of_CUBID(self) :\n",
    "        return self.l * self.b * self.h\n",
    "    \n",
    "    def surfaceArea(self) : \n",
    "        return 2*(self.l*self.b+self.l*self.h+self.b*self.h)\n",
    "    \n",
    "b = CUBOID(5,5,5)\n",
    "b.surfaceArea()\n",
    "b.volume_of_CUBID()"
   ]
  },
  {
   "cell_type": "code",
   "execution_count": 5,
   "metadata": {},
   "outputs": [
    {
     "name": "stdout",
     "output_type": "stream",
     "text": [
      "range(1, 9, 2)\n"
     ]
    }
   ],
   "source": [
    "print(range(1,9,2))"
   ]
  },
  {
   "cell_type": "code",
   "execution_count": null,
   "metadata": {},
   "outputs": [],
   "source": []
  }
 ],
 "metadata": {
  "kernelspec": {
   "display_name": "Python 3",
   "language": "python",
   "name": "python3"
  },
  "language_info": {
   "codemirror_mode": {
    "name": "ipython",
    "version": 3
   },
   "file_extension": ".py",
   "mimetype": "text/x-python",
   "name": "python",
   "nbconvert_exporter": "python",
   "pygments_lexer": "ipython3",
   "version": "3.6.5"
  }
 },
 "nbformat": 4,
 "nbformat_minor": 2
}
