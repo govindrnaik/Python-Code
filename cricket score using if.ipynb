{
 "cells": [
  {
   "cell_type": "markdown",
   "metadata": {},
   "source": [
    "# WAP gives you a random score of Team India in a cricket match, and a player has to\n",
    "guess the score given by computer in between 1 to 250. The rules are:\n",
    "1. If a player's guess is less than 1 or greater than 250, say \"Reduce your expectation for 20-20\n",
    "Cricket\"\n",
    "2. On a player's input, if their score guess is\n",
    "a. within 10 of the number, return \"Close By, you are True Indian Fan! \"\n",
    "b. further than 10 away from the number, return \"You don't watch that much! :P \"\n",
    "Question 3:\n",
    "WAP to Handle File using Python Script.\n",
    "1. Opening"
   ]
  },
  {
   "cell_type": "code",
   "execution_count": 1,
   "metadata": {},
   "outputs": [
    {
     "name": "stdout",
     "output_type": "stream",
     "text": [
      "Predict The Score of  The Match :26\n",
      "\n",
      "__________________________________\n",
      "\n",
      "         You Don't Watch That Much !\n",
      "                      Score is :  119 \n",
      "__________________________________\n"
     ]
    }
   ],
   "source": [
    "# generate random number\n",
    "import random\n",
    "\n",
    "score =  random.randint(1,250)\n",
    "predict = int(input(\"Predict The Score of  The Match :\")) \n",
    "print(\"\\n__________________________________\\n\")\n",
    "\n",
    "\n",
    "if 1 < predict < 250 :\n",
    "    if ((score -10) < predict < (score + 10)) :\n",
    "        print(\"Close By, you are True Indian Fan !\")\n",
    "        \n",
    "    else : \n",
    "                print(\"         You Don't Watch That Much !\")\n",
    "else :\n",
    "        print(\"Reduce Your Expectation for 20-20 Cricket \")\n",
    "        \n",
    "print(\"                      Score is : \",score,\"\\n__________________________________\")"
   ]
  },
  {
   "cell_type": "code",
   "execution_count": null,
   "metadata": {},
   "outputs": [],
   "source": []
  }
 ],
 "metadata": {
  "kernelspec": {
   "display_name": "Python 3",
   "language": "python",
   "name": "python3"
  },
  "language_info": {
   "codemirror_mode": {
    "name": "ipython",
    "version": 3
   },
   "file_extension": ".py",
   "mimetype": "text/x-python",
   "name": "python",
   "nbconvert_exporter": "python",
   "pygments_lexer": "ipython3",
   "version": "3.6.5"
  }
 },
 "nbformat": 4,
 "nbformat_minor": 2
}
