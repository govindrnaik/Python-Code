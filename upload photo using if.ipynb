{
 "cells": [
  {
   "cell_type": "markdown",
   "metadata": {},
   "source": [
    "# Roy wants to change his profile picture on Facebook. Now Facebook has some\n",
    "restrictions over the dimension of pictures that we can upload.\n",
    "Minimum dimension of the picture can be L x L, where L is the length of the side of the\n",
    "square.\n",
    "Now Roy has N photos of various dimensions.\n",
    "Dimension of a photo is denoted as W x H\n",
    "where W - width of the photo and H - Height of the photo\n",
    "When any photo is uploaded following events may occur:\n",
    "[1] If any of the width or height is less than L, the user is prompted to upload another one. Print \"UPLOAD\n",
    "ANOTHER\" in this case.\n",
    "[2] If width and height, both are large enough and\n",
    "(a) if the photo is already square then it is accepted. Print \"ACCEPTED\" in this case.\n",
    "(b) else the user is prompted to crop it. Print \"CROP IT\" in this case. (quotes are only for clarification)\n",
    "Given L, N, W and H as input, print appropriate text as output."
   ]
  },
  {
   "cell_type": "code",
   "execution_count": 1,
   "metadata": {},
   "outputs": [
    {
     "name": "stdout",
     "output_type": "stream",
     "text": [
      "Enter the Length :5\n",
      "Enter the number of photos :3\n",
      "\n",
      "Photo : 1\n",
      "Enter the Width :5\n",
      "Enter the Height :5\n",
      "-----ACCEPTED-----\n",
      "\n",
      "Photo : 2\n",
      "Enter the Width :4\n",
      "Enter the Height :4\n",
      "-----UPLOAD ANOTHER-----\n",
      "\n",
      "Photo : 3\n",
      "Enter the Width :5\n",
      "Enter the Height :6\n",
      "-----CROP IT-----\n"
     ]
    }
   ],
   "source": [
    "L = int( input(\"Enter the Length :\"))\n",
    "N =  int(input(\"Enter the number of photos :\"))\n",
    "for i in range(N) :\n",
    "    print(\"\\nPhoto :\", i+1)\n",
    "    W = int(input(\"Enter the Width :\"))\n",
    "    H = int(input(\"Enter the Height :\")) \n",
    "    \n",
    "    # Process\n",
    "    if (W < L or H < L) :\n",
    "        print(\"-----UPLOAD ANOTHER-----\")    \n",
    "    else :\n",
    "        if W == H :\n",
    "            print(\"-----ACCEPTED-----\")\n",
    "        else : \n",
    "            print(\"-----CROP IT-----\")"
   ]
  }
 ],
 "metadata": {
  "kernelspec": {
   "display_name": "Python 3",
   "language": "python",
   "name": "python3"
  },
  "language_info": {
   "codemirror_mode": {
    "name": "ipython",
    "version": 3
   },
   "file_extension": ".py",
   "mimetype": "text/x-python",
   "name": "python",
   "nbconvert_exporter": "python",
   "pygments_lexer": "ipython3",
   "version": "3.6.5"
  }
 },
 "nbformat": 4,
 "nbformat_minor": 2
}
