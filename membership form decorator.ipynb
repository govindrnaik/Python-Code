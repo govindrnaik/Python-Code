{
 "cells": [
  {
   "cell_type": "markdown",
   "metadata": {},
   "source": [
    "# Write a decorator function for your taking input for you any kind of function you want to build,\n",
    "For example - you make a fibonacci series function, in which your input range is\n",
    "been defined by the decorator programs input."
   ]
  },
  {
   "cell_type": "markdown",
   "metadata": {},
   "source": [
    "# Answer : get membership "
   ]
  },
  {
   "cell_type": "code",
   "execution_count": 2,
   "metadata": {},
   "outputs": [],
   "source": [
    "dc ={}\n",
    "def getName(some_func):\n",
    "    def newFunc():\n",
    "        a = input(\"Enter  Your first name : \")\n",
    "        b = input(\"Enter Your last name :  \")\n",
    "        some_func(a,b,dc)\n",
    "    return newFunc()"
   ]
  },
  {
   "cell_type": "code",
   "execution_count": 3,
   "metadata": {},
   "outputs": [
    {
     "name": "stdout",
     "output_type": "stream",
     "text": [
      "Enter  Your first name : g\n",
      "Enter Your last name :  n\n",
      "\n",
      "Hello, g n \n",
      "Welcome to our Program \n"
     ]
    }
   ],
   "source": [
    "@getName\n",
    "def login(a,b,dc):\n",
    "    print(\"\\nHello,\",a,b,\"\\nWelcome to our Program \")\n",
    "    for i in dc:\n",
    "        if (((a+b) == dc.keys())or (dc.keys() == [])) :\n",
    "            print(\"You Are Already An Member\")\n",
    "        else :\n",
    "            print(\"You Have to Join Membership\")\n",
    "            break"
   ]
  },
  {
   "cell_type": "code",
   "execution_count": 3,
   "metadata": {},
   "outputs": [
    {
     "name": "stdout",
     "output_type": "stream",
     "text": [
      "Enter  Your first name : g\n",
      "Enter Your last name :  n\n",
      "Your unique  ID is  1\n"
     ]
    }
   ],
   "source": [
    "@getName\n",
    "def getIDno(a,b,dc):\n",
    "    i = 1+ len(dc)\n",
    "    dc.__setitem__(a+b ,i)\n",
    "    print(\"Your unique  ID is \", i) \n",
    "    return  dc"
   ]
  },
  {
   "cell_type": "code",
   "execution_count": 4,
   "metadata": {},
   "outputs": [
    {
     "data": {
      "text/plain": [
       "dict_keys(['gn'])"
      ]
     },
     "execution_count": 4,
     "metadata": {},
     "output_type": "execute_result"
    }
   ],
   "source": [
    "dc.keys()"
   ]
  }
 ],
 "metadata": {
  "kernelspec": {
   "display_name": "Python 3",
   "language": "python",
   "name": "python3"
  },
  "language_info": {
   "codemirror_mode": {
    "name": "ipython",
    "version": 3
   },
   "file_extension": ".py",
   "mimetype": "text/x-python",
   "name": "python",
   "nbconvert_exporter": "python",
   "pygments_lexer": "ipython3",
   "version": "3.6.5"
  }
 },
 "nbformat": 4,
 "nbformat_minor": 2
}
