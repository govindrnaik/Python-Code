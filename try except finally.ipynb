{
 "cells": [
  {
   "cell_type": "markdown",
   "metadata": {},
   "source": [
    "# For this challenge you need to develop a Python program to open a file in read only mode and try writing\n",
    "something in it and handle the subsequent errors using Exception Handling."
   ]
  },
  {
   "cell_type": "code",
   "execution_count": 2,
   "metadata": {},
   "outputs": [
    {
     "name": "stdout",
     "output_type": "stream",
     "text": [
      "The error is as -  not writable\n",
      "(___@@____I Love FCS____@@____) \n"
     ]
    }
   ],
   "source": [
    "try:\n",
    "    file = open(\"govind.txt\",'r')\n",
    "#     error\n",
    "    file.write(\"I AM LEARNING PYTHON\")\n",
    "    \n",
    "except Exception as a :\n",
    "    print(\"The error is as - \", a)\n",
    "#     error\n",
    "    file = open(\"govind.txt\",'r')\n",
    "    print(file.read())\n",
    "    \n",
    "finally:\n",
    "    file.close()"
   ]
  },
  {
   "cell_type": "code",
   "execution_count": null,
   "metadata": {},
   "outputs": [],
   "source": []
  }
 ],
 "metadata": {
  "kernelspec": {
   "display_name": "Python 3",
   "language": "python",
   "name": "python3"
  },
  "language_info": {
   "codemirror_mode": {
    "name": "ipython",
    "version": 3
   },
   "file_extension": ".py",
   "mimetype": "text/x-python",
   "name": "python",
   "nbconvert_exporter": "python",
   "pygments_lexer": "ipython3",
   "version": "3.6.5"
  }
 },
 "nbformat": 4,
 "nbformat_minor": 2
}
