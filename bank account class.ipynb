{
 "cells": [
  {
   "cell_type": "markdown",
   "metadata": {},
   "source": [
    "# For this challenge, create a bank account class that has two attributes:\n",
    "● owner\n",
    "● balance\n",
    "and Two methods:\n",
    "● deposit\n",
    "● withdraw\n",
    "As an added requirement, withdrawals may not exceed the available balance.\n",
    "Instantiate your class, make several deposits and withdrawals, and test to make sure the account can't be\n",
    "overdrawn."
   ]
  },
  {
   "cell_type": "code",
   "execution_count": 59,
   "metadata": {},
   "outputs": [],
   "source": [
    "class BankAccount():\n",
    "    def __init__(self, owner , balance) :\n",
    "        self.owner = owner\n",
    "        self.balance = balance\n",
    "        \n",
    "    def deposit(self, add) :\n",
    "        self.balance += add \n",
    "    \n",
    "    def withdraw(self, sub) : \n",
    "        self.balance -= sub \n",
    "        \n",
    "    def show(self) : \n",
    "        print(\"Account name is : \",self.owner)\n",
    "        print(\"Account Balance is : \",self.balance)\n",
    "    "
   ]
  },
  {
   "cell_type": "code",
   "execution_count": 60,
   "metadata": {},
   "outputs": [],
   "source": [
    "first = BankAccount(\"hitesh\",4000)"
   ]
  },
  {
   "cell_type": "code",
   "execution_count": 61,
   "metadata": {},
   "outputs": [
    {
     "name": "stdout",
     "output_type": "stream",
     "text": [
      "Account name is :  hitesh\n",
      "Account Balance is :  4000\n"
     ]
    }
   ],
   "source": [
    "first.show()"
   ]
  },
  {
   "cell_type": "code",
   "execution_count": 62,
   "metadata": {},
   "outputs": [
    {
     "name": "stdout",
     "output_type": "stream",
     "text": [
      "Account name is :  hitesh\n",
      "Account Balance is :  11000\n"
     ]
    }
   ],
   "source": [
    "first.deposit(7000)\n",
    "first.show()"
   ]
  },
  {
   "cell_type": "code",
   "execution_count": 63,
   "metadata": {},
   "outputs": [
    {
     "name": "stdout",
     "output_type": "stream",
     "text": [
      "Account name is :  hitesh\n",
      "Account Balance is :  4000\n"
     ]
    }
   ],
   "source": [
    "first.withdraw(7000)\n",
    "first.show()"
   ]
  },
  {
   "cell_type": "code",
   "execution_count": null,
   "metadata": {},
   "outputs": [],
   "source": []
  }
 ],
 "metadata": {
  "kernelspec": {
   "display_name": "Python 3",
   "language": "python",
   "name": "python3"
  },
  "language_info": {
   "codemirror_mode": {
    "name": "ipython",
    "version": 3
   },
   "file_extension": ".py",
   "mimetype": "text/x-python",
   "name": "python",
   "nbconvert_exporter": "python",
   "pygments_lexer": "ipython3",
   "version": "3.6.5"
  }
 },
 "nbformat": 4,
 "nbformat_minor": 2
}
