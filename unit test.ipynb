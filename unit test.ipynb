{
 "cells": [
  {
   "cell_type": "markdown",
   "metadata": {},
   "source": [
    "# Write a python Function for finding a given number prime or not and do Unit Testing on it using PyLint & Unit test Library."
   ]
  },
  {
   "cell_type": "code",
   "execution_count": 1,
   "metadata": {},
   "outputs": [
    {
     "name": "stdout",
     "output_type": "stream",
     "text": [
      "Requirement already satisfied: pylint in c:\\users\\user\\anaconda3\\lib\\site-packages (1.8.4)\n",
      "Requirement already satisfied: astroid<2.0,>=1.6 in c:\\users\\user\\anaconda3\\lib\\site-packages (from pylint) (1.6.3)\n",
      "Requirement already satisfied: six in c:\\users\\user\\anaconda3\\lib\\site-packages (from pylint) (1.11.0)\n",
      "Requirement already satisfied: isort>=4.2.5 in c:\\users\\user\\anaconda3\\lib\\site-packages (from pylint) (4.3.4)\n",
      "Requirement already satisfied: mccabe in c:\\users\\user\\anaconda3\\lib\\site-packages (from pylint) (0.6.1)\n",
      "Requirement already satisfied: colorama in c:\\users\\user\\anaconda3\\lib\\site-packages (from pylint) (0.3.9)\n",
      "Requirement already satisfied: lazy_object_proxy in c:\\users\\user\\anaconda3\\lib\\site-packages (from astroid<2.0,>=1.6->pylint) (1.3.1)\n",
      "Requirement already satisfied: wrapt in c:\\users\\user\\anaconda3\\lib\\site-packages (from astroid<2.0,>=1.6->pylint) (1.10.11)\n"
     ]
    }
   ],
   "source": [
    "!pip install pylint"
   ]
  },
  {
   "cell_type": "markdown",
   "metadata": {},
   "source": [
    "# Unit Testing "
   ]
  },
  {
   "cell_type": "code",
   "execution_count": 7,
   "metadata": {},
   "outputs": [
    {
     "name": "stdout",
     "output_type": "stream",
     "text": [
      "Writing pylint1.py\n"
     ]
    }
   ],
   "source": [
    "%%writefile pylint1.py\n",
    "def is_prime(test_ no) :\n",
    "    '''\n",
    "    TO FIND GIVEN NO IS PRIME OR NOT\n",
    "    '''\n",
    "    if test_ no > 1:\n",
    "        for i in range(2, test_ no):\n",
    "            if (test_ no % i) == 0:\n",
    "                print(test_ no, \"is not a prime number\")\n",
    "                print(i, \"times\", test_ no/i, \"is\", test_ no)\n",
    "                break\n",
    "            else:\n",
    "                   print(test_ no, \"is a prime number\")\n",
    "    else:\n",
    "        print(test_ no, \"is not a prime number\")"
   ]
  },
  {
   "cell_type": "code",
   "execution_count": 8,
   "metadata": {},
   "outputs": [
    {
     "name": "stdout",
     "output_type": "stream",
     "text": [
      "************* Module pylint1\n",
      "E:  1, 0: invalid syntax (<string>, line 1) (syntax-error)\n"
     ]
    },
    {
     "name": "stderr",
     "output_type": "stream",
     "text": [
      "No config file found, using default configuration\n"
     ]
    }
   ],
   "source": [
    "!pylint pylint1.py"
   ]
  },
  {
   "cell_type": "markdown",
   "metadata": {},
   "source": [
    "# Unit test Library"
   ]
  },
  {
   "cell_type": "code",
   "execution_count": 9,
   "metadata": {},
   "outputs": [
    {
     "name": "stdout",
     "output_type": "stream",
     "text": [
      "Overwriting unittest2.py\n"
     ]
    }
   ],
   "source": [
    "%%writefile unittest2.py\n",
    "import unittest\n",
    "import pylint1\n",
    "\n",
    "class TestPtime(unittest.TestCase):\n",
    "    \n",
    "    def test_numbers(self):\n",
    "        N = 3\n",
    "        result = pylint1.isPrime(AN)\n",
    "        self.assertEqual(result,\"3 is a prime number\")\n",
    "if __name__ == '__main__':\n",
    "    unittest.main()"
   ]
  },
  {
   "cell_type": "code",
   "execution_count": 19,
   "metadata": {},
   "outputs": [
    {
     "name": "stdout",
     "output_type": "stream",
     "text": [
      "Overwriting unittestof_Twonumbers.py\n"
     ]
    }
   ],
   "source": [
    "%%writefile unittestof_Twonumbers.py\n",
    "import pylint1\n",
    "import adding_Multiplenumbers\n",
    "\n",
    "class TestAddition(unittest.TestCase):\n",
    "    \n",
    "    def test_two_numbers(self):\n",
    "        B = 2\n",
    "        result = adding_Multiplenumbers.addNumbers(B)\n",
    "        self.assertEqual(result, \"is not a prime number\")\n",
    "        \n",
    "    def test_multiple_numbers(self):\n",
    "        A = 3\n",
    "        result = adding_Multiplenumbers.addNumbers(B)\n",
    "        self.assertEqual(result, \"is a prime number\")\n",
    "    \n",
    "#     def test_three_args(self):\n",
    "#         A= 1\n",
    "#         B= 2\n",
    "#         C= 3\n",
    "#         result = adding_Multiplenumbers.addNumbers(A,B,C)\n",
    "#         self.assertEqual(result,\"Refer to doc string\")\n",
    "        \n",
    "    \n",
    "if __name__ == '__main__':\n",
    "    unittest.main()"
   ]
  },
  {
   "cell_type": "code",
   "execution_count": 20,
   "metadata": {},
   "outputs": [
    {
     "name": "stdout",
     "output_type": "stream",
     "text": [
      "************* Module unittestof_Twonumbers\n",
      "C:  5, 0: Trailing whitespace (trailing-whitespace)\n",
      "C: 10, 0: Trailing whitespace (trailing-whitespace)\n",
      "C: 15, 0: Trailing whitespace (trailing-whitespace)\n",
      "C: 22, 0: Trailing whitespace (trailing-whitespace)\n",
      "C: 23, 0: Trailing whitespace (trailing-whitespace)\n",
      "C: 25, 0: Final newline missing (missing-final-newline)\n",
      "C:  1, 0: Module name \"unittestof_Twonumbers\" doesn't conform to snake_case naming style (invalid-name)\n",
      "C:  1, 0: Missing module docstring (missing-docstring)\n",
      "E:  1, 0: Unable to import 'pylint1' (import-error)\n",
      "E:  2, 0: Unable to import 'adding_Multiplenumbers' (import-error)\n",
      "C:  4, 0: Missing class docstring (missing-docstring)\n",
      "E:  4,19: Undefined variable 'unittest' (undefined-variable)\n",
      "C:  6, 4: Missing method docstring (missing-docstring)\n",
      "C:  7, 8: Variable name \"B\" doesn't conform to snake_case naming style (invalid-name)\n",
      "C: 11, 4: Missing method docstring (missing-docstring)\n",
      "C: 12, 8: Variable name \"A\" doesn't conform to snake_case naming style (invalid-name)\n",
      "E: 13,51: Undefined variable 'B' (undefined-variable)\n",
      "W: 12, 8: Unused variable 'A' (unused-variable)\n",
      "E: 25, 4: Undefined variable 'unittest' (undefined-variable)\n",
      "W:  1, 0: Unused import pylint1 (unused-import)\n",
      "\n",
      "----------------------------------------------------------------------\n",
      "\n",
      "Your code has been rated at -20.77/10 (previous run: -20.00/10, -0.77)\n",
      "\n",
      "\n",
      "\n"
     ]
    },
    {
     "name": "stderr",
     "output_type": "stream",
     "text": [
      "No config file found, using default configuration\n"
     ]
    }
   ],
   "source": [
    "!pylint unittestof_Twonumbers.py"
   ]
  },
  {
   "cell_type": "code",
   "execution_count": 6,
   "metadata": {},
   "outputs": [
    {
     "ename": "NameError",
     "evalue": "name 'isPrime' is not defined",
     "output_type": "error",
     "traceback": [
      "\u001b[1;31m---------------------------------------------------------------------------\u001b[0m",
      "\u001b[1;31mNameError\u001b[0m                                 Traceback (most recent call last)",
      "\u001b[1;32m<ipython-input-6-43098d7391e2>\u001b[0m in \u001b[0;36m<module>\u001b[1;34m()\u001b[0m\n\u001b[1;32m----> 1\u001b[1;33m \u001b[0misPrime\u001b[0m\u001b[1;33m(\u001b[0m\u001b[1;36m3\u001b[0m\u001b[1;33m)\u001b[0m\u001b[1;33m\u001b[0m\u001b[0m\n\u001b[0m",
      "\u001b[1;31mNameError\u001b[0m: name 'isPrime' is not defined"
     ]
    }
   ],
   "source": [
    "isPrime(3)"
   ]
  },
  {
   "cell_type": "code",
   "execution_count": null,
   "metadata": {},
   "outputs": [],
   "source": []
  },
  {
   "cell_type": "code",
   "execution_count": null,
   "metadata": {},
   "outputs": [],
   "source": []
  }
 ],
 "metadata": {
  "kernelspec": {
   "display_name": "Python 3",
   "language": "python",
   "name": "python3"
  },
  "language_info": {
   "codemirror_mode": {
    "name": "ipython",
    "version": 3
   },
   "file_extension": ".py",
   "mimetype": "text/x-python",
   "name": "python",
   "nbconvert_exporter": "python",
   "pygments_lexer": "ipython3",
   "version": "3.6.5"
  }
 },
 "nbformat": 4,
 "nbformat_minor": 2
}
