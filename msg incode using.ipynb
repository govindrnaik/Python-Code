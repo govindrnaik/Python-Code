{
 "cells": [
  {
   "cell_type": "markdown",
   "metadata": {},
   "source": [
    "# Indian army is going to do a surprise attack on one of its enemy countries. The President of India, the\n",
    "Supreme Commander of the Indian Army will be sending an alert message to all its commanding centers.\n",
    "As the enemy would be monitoring the message, Indian army is going to encrypt(cipher) the message\n",
    "using basic encryption techniques. A decoding key 'K' (number) would be sent secretly.\n",
    "You are assigned to develop a cipher program to encrypt the message. Your cipher must rotate every\n",
    "character in the message by a fixed number making it unreadable by enemies.\n",
    "Given a single line of string 'S' containing alpha, numeric and symbols, followed by a number\n",
    "'0<=N<=1000'. Encrypt and print the resulting string.\n",
    "Note: The cipher only encrypts Alpha and Numeric. (A-Z, a-z, and 0-9) . All Symbols, such as - , ; %,\n",
    "remain unencrypted."
   ]
  },
  {
   "cell_type": "code",
   "execution_count": 12,
   "metadata": {},
   "outputs": [
    {
     "name": "stdout",
     "output_type": "stream",
     "text": [
      "Enter the Massage To Be  Encoded :All-convoYs-9-be:Alert1.\n",
      "Enter the Encoding Key :4\n"
     ]
    },
    {
     "data": {
      "text/plain": [
       "'Epp-gsrzscw-D-fi:Epivx5.'"
      ]
     },
     "execution_count": 12,
     "metadata": {},
     "output_type": "execute_result"
    }
   ],
   "source": [
    "msg = input(\"Enter the Massage To Be  Encoded :\")\n",
    "key = int(input(\"Enter the Encoding Key :\"))\n",
    "code = []\n",
    "for i in range(len(msg)) :\n",
    "    c = ord(msg[i])\n",
    "    if ((48 <= c <= 57) or (65 <= c <= 90) or (97 <= c <= 122)) :\n",
    "        for j in range(key) :\n",
    "            c += 1\n",
    "            if (c == 58) :\n",
    "                c = 65\n",
    "            elif(c == 91) :\n",
    "                c = 97\n",
    "            elif(c == 123) :\n",
    "                c = 48\n",
    "            else :\n",
    "                continue                \n",
    "    code.insert(i,chr(c))\n",
    "\"\".join(code)"
   ]
  },
  {
   "cell_type": "code",
   "execution_count": null,
   "metadata": {},
   "outputs": [],
   "source": []
  }
 ],
 "metadata": {
  "kernelspec": {
   "display_name": "Python 3",
   "language": "python",
   "name": "python3"
  },
  "language_info": {
   "codemirror_mode": {
    "name": "ipython",
    "version": 3
   },
   "file_extension": ".py",
   "mimetype": "text/x-python",
   "name": "python",
   "nbconvert_exporter": "python",
   "pygments_lexer": "ipython3",
   "version": "3.6.5"
  }
 },
 "nbformat": 4,
 "nbformat_minor": 2
}
